{
 "cells": [
  {
   "cell_type": "code",
   "execution_count": 1,
   "id": "195bcddf",
   "metadata": {},
   "outputs": [],
   "source": [
    "import numpy as np\n",
    "import pandas as pd\n",
    "import tensorflow as tf\n",
    "from tensorflow.keras.models import Sequential\n",
    "from tensorflow.keras.layers import Dense, Dropout, Input\n",
    "from sklearn.model_selection import train_test_split\n",
    "from sklearn.preprocessing import StandardScaler"
   ]
  },
  {
   "cell_type": "code",
   "execution_count": 2,
   "id": "43518d48",
   "metadata": {},
   "outputs": [],
   "source": [
    "# Load the dataset\n",
    "file_path = r'C:\\Program Files\\Battery_RUL.csv'\n",
    "df = pd.read_csv(file_path)"
   ]
  },
  {
   "cell_type": "code",
   "execution_count": 3,
   "id": "4033c277",
   "metadata": {},
   "outputs": [
    {
     "name": "stdout",
     "output_type": "stream",
     "text": [
      "   Cycle_Index  Discharge Time (s)  Decrement 3.6-3.4V (s)  \\\n",
      "0          1.0             2595.30             1151.488500   \n",
      "1          2.0             7408.64             1172.512500   \n",
      "2          3.0             7393.76             1112.992000   \n",
      "3          4.0             7385.50             1080.320667   \n",
      "4          6.0            65022.75            29813.487000   \n",
      "\n",
      "   Max. Voltage Dischar. (V)  Min. Voltage Charg. (V)  Time at 4.15V (s)  \\\n",
      "0                      3.670                    3.211           5460.001   \n",
      "1                      4.246                    3.220           5508.992   \n",
      "2                      4.249                    3.224           5508.993   \n",
      "3                      4.250                    3.225           5502.016   \n",
      "4                      4.290                    3.398           5480.992   \n",
      "\n",
      "   Time constant current (s)  Charging time (s)   RUL  \n",
      "0                    6755.01           10777.82  1112  \n",
      "1                    6762.02           10500.35  1111  \n",
      "2                    6762.02           10420.38  1110  \n",
      "3                    6762.02           10322.81  1109  \n",
      "4                   53213.54           56699.65  1107  \n"
     ]
    }
   ],
   "source": [
    "# Display the first few rows to understand the structure\n",
    "print(df.head())"
   ]
  },
  {
   "cell_type": "code",
   "execution_count": 4,
   "id": "4f2d6ae3",
   "metadata": {},
   "outputs": [],
   "source": [
    "# Feature Columns\n",
    "features = ['Cycle_Index', 'Discharge Time (s)', 'Time at 4.15V (s)', 'Time constant current (s)', 'Decrement 3.6-3.4V (s)', 'Max. Voltage Dischar. (V)', 'Min. Voltage Charg. (V)', 'Charging time (s)']\n",
    "# Target Column\n",
    "target = 'RUL'"
   ]
  },
  {
   "cell_type": "code",
   "execution_count": 5,
   "id": "6f295be1",
   "metadata": {},
   "outputs": [
    {
     "name": "stdout",
     "output_type": "stream",
     "text": [
      "Index(['Cycle_Index', 'Discharge Time (s)', 'Decrement 3.6-3.4V (s)',\n",
      "       'Max. Voltage Dischar. (V)', 'Min. Voltage Charg. (V)',\n",
      "       'Time at 4.15V (s)', 'Time constant current (s)', 'Charging time (s)',\n",
      "       'RUL'],\n",
      "      dtype='object')\n"
     ]
    }
   ],
   "source": [
    "print(df.columns)"
   ]
  },
  {
   "cell_type": "code",
   "execution_count": 6,
   "id": "61ae008d",
   "metadata": {},
   "outputs": [],
   "source": [
    "# Splitting the data into features (X) and target (y)\n",
    "X = df[features].values\n",
    "y = df[target].values"
   ]
  },
  {
   "cell_type": "code",
   "execution_count": 7,
   "id": "8e9440c2",
   "metadata": {},
   "outputs": [],
   "source": [
    "# Split the data into training and testing sets (80% train, 20% test)\n",
    "X_train, X_test, y_train, y_test = train_test_split(X, y, test_size=0.2, random_state=42)"
   ]
  },
  {
   "cell_type": "code",
   "execution_count": 8,
   "id": "e981ef05",
   "metadata": {},
   "outputs": [],
   "source": [
    "# Standardize the features (important for neural networks)\n",
    "scaler = StandardScaler()\n",
    "X_train = scaler.fit_transform(X_train)\n",
    "X_test = scaler.transform(X_test)"
   ]
  },
  {
   "cell_type": "code",
   "execution_count": 9,
   "id": "8770b83c",
   "metadata": {},
   "outputs": [],
   "source": [
    "# Define the neural network model\n",
    "model = Sequential([\n",
    "    Input(shape=(X_train.shape[1],)),  # Input layer with the shape of the feature space\n",
    "    Dense(64, activation='relu'),  # Hidden layer with 64 neurons\n",
    "    Dropout(0.2),  # Dropout layer to prevent overfitting\n",
    "    Dense(128, activation='relu'),  # Hidden layer with 128 neurons\n",
    "    Dropout(0.2),  # Dropout layer\n",
    "    Dense(64, activation='relu'),  # Hidden layer with 64 neurons\n",
    "    Dropout(0.2),  # Dropout layer\n",
    "    Dense(1)  # Output layer for regression (no activation function)\n",
    "])"
   ]
  },
  {
   "cell_type": "code",
   "execution_count": 10,
   "id": "13692af4",
   "metadata": {},
   "outputs": [],
   "source": [
    "#Training with Adam optimizer"
   ]
  },
  {
   "cell_type": "code",
   "execution_count": 11,
   "id": "867751b9",
   "metadata": {},
   "outputs": [],
   "source": [
    "# Compile the model\n",
    "model.compile(optimizer='adam', loss='mse', metrics=['mae'])"
   ]
  },
  {
   "cell_type": "code",
   "execution_count": 12,
   "id": "38d75996",
   "metadata": {},
   "outputs": [
    {
     "name": "stdout",
     "output_type": "stream",
     "text": [
      "Epoch 1/100\n",
      "\u001b[1m302/302\u001b[0m \u001b[32m━━━━━━━━━━━━━━━━━━━━\u001b[0m\u001b[37m\u001b[0m \u001b[1m2s\u001b[0m 3ms/step - loss: 268400.5312 - mae: 409.2783 - val_loss: 15163.3682 - val_mae: 61.2446\n",
      "Epoch 2/100\n",
      "\u001b[1m302/302\u001b[0m \u001b[32m━━━━━━━━━━━━━━━━━━━━\u001b[0m\u001b[37m\u001b[0m \u001b[1m1s\u001b[0m 2ms/step - loss: 10139.8105 - mae: 74.6061 - val_loss: 7961.8018 - val_mae: 27.4954\n",
      "Epoch 3/100\n",
      "\u001b[1m302/302\u001b[0m \u001b[32m━━━━━━━━━━━━━━━━━━━━\u001b[0m\u001b[37m\u001b[0m \u001b[1m1s\u001b[0m 2ms/step - loss: 7555.9653 - mae: 61.8524 - val_loss: 5764.7622 - val_mae: 22.2992\n",
      "Epoch 4/100\n",
      "\u001b[1m302/302\u001b[0m \u001b[32m━━━━━━━━━━━━━━━━━━━━\u001b[0m\u001b[37m\u001b[0m \u001b[1m1s\u001b[0m 2ms/step - loss: 7237.8394 - mae: 59.6097 - val_loss: 4531.4355 - val_mae: 16.9636\n",
      "Epoch 5/100\n",
      "\u001b[1m302/302\u001b[0m \u001b[32m━━━━━━━━━━━━━━━━━━━━\u001b[0m\u001b[37m\u001b[0m \u001b[1m1s\u001b[0m 3ms/step - loss: 6673.7222 - mae: 58.0889 - val_loss: 3380.9192 - val_mae: 13.1794\n",
      "Epoch 6/100\n",
      "\u001b[1m302/302\u001b[0m \u001b[32m━━━━━━━━━━━━━━━━━━━━\u001b[0m\u001b[37m\u001b[0m \u001b[1m1s\u001b[0m 2ms/step - loss: 6649.8945 - mae: 57.9653 - val_loss: 3143.5586 - val_mae: 14.0127\n",
      "Epoch 7/100\n",
      "\u001b[1m302/302\u001b[0m \u001b[32m━━━━━━━━━━━━━━━━━━━━\u001b[0m\u001b[37m\u001b[0m \u001b[1m1s\u001b[0m 2ms/step - loss: 5867.4160 - mae: 55.1937 - val_loss: 3607.3252 - val_mae: 17.7212\n",
      "Epoch 8/100\n",
      "\u001b[1m302/302\u001b[0m \u001b[32m━━━━━━━━━━━━━━━━━━━━\u001b[0m\u001b[37m\u001b[0m \u001b[1m1s\u001b[0m 2ms/step - loss: 6081.6489 - mae: 54.8548 - val_loss: 2809.6145 - val_mae: 11.6031\n",
      "Epoch 9/100\n",
      "\u001b[1m302/302\u001b[0m \u001b[32m━━━━━━━━━━━━━━━━━━━━\u001b[0m\u001b[37m\u001b[0m \u001b[1m1s\u001b[0m 2ms/step - loss: 6252.9487 - mae: 55.4842 - val_loss: 2472.9368 - val_mae: 10.3222\n",
      "Epoch 10/100\n",
      "\u001b[1m302/302\u001b[0m \u001b[32m━━━━━━━━━━━━━━━━━━━━\u001b[0m\u001b[37m\u001b[0m \u001b[1m1s\u001b[0m 2ms/step - loss: 5836.0640 - mae: 53.8650 - val_loss: 2289.4900 - val_mae: 17.0201\n",
      "Epoch 11/100\n",
      "\u001b[1m302/302\u001b[0m \u001b[32m━━━━━━━━━━━━━━━━━━━━\u001b[0m\u001b[37m\u001b[0m \u001b[1m1s\u001b[0m 2ms/step - loss: 5956.7251 - mae: 53.6405 - val_loss: 1943.2090 - val_mae: 19.3620\n",
      "Epoch 12/100\n",
      "\u001b[1m302/302\u001b[0m \u001b[32m━━━━━━━━━━━━━━━━━━━━\u001b[0m\u001b[37m\u001b[0m \u001b[1m1s\u001b[0m 2ms/step - loss: 5491.7354 - mae: 52.8978 - val_loss: 1562.6410 - val_mae: 8.5839\n",
      "Epoch 13/100\n",
      "\u001b[1m302/302\u001b[0m \u001b[32m━━━━━━━━━━━━━━━━━━━━\u001b[0m\u001b[37m\u001b[0m \u001b[1m1s\u001b[0m 2ms/step - loss: 5474.4556 - mae: 52.2443 - val_loss: 1611.5162 - val_mae: 11.5457\n",
      "Epoch 14/100\n",
      "\u001b[1m302/302\u001b[0m \u001b[32m━━━━━━━━━━━━━━━━━━━━\u001b[0m\u001b[37m\u001b[0m \u001b[1m1s\u001b[0m 2ms/step - loss: 5590.4185 - mae: 52.7347 - val_loss: 1431.4756 - val_mae: 8.7286\n",
      "Epoch 15/100\n",
      "\u001b[1m302/302\u001b[0m \u001b[32m━━━━━━━━━━━━━━━━━━━━\u001b[0m\u001b[37m\u001b[0m \u001b[1m1s\u001b[0m 3ms/step - loss: 5368.5640 - mae: 52.1061 - val_loss: 2074.2598 - val_mae: 14.1662\n",
      "Epoch 16/100\n",
      "\u001b[1m302/302\u001b[0m \u001b[32m━━━━━━━━━━━━━━━━━━━━\u001b[0m\u001b[37m\u001b[0m \u001b[1m1s\u001b[0m 2ms/step - loss: 5287.5986 - mae: 51.2397 - val_loss: 1221.0939 - val_mae: 10.1109\n",
      "Epoch 17/100\n",
      "\u001b[1m302/302\u001b[0m \u001b[32m━━━━━━━━━━━━━━━━━━━━\u001b[0m\u001b[37m\u001b[0m \u001b[1m1s\u001b[0m 3ms/step - loss: 5068.8267 - mae: 50.4607 - val_loss: 2108.5115 - val_mae: 24.6922\n",
      "Epoch 18/100\n",
      "\u001b[1m302/302\u001b[0m \u001b[32m━━━━━━━━━━━━━━━━━━━━\u001b[0m\u001b[37m\u001b[0m \u001b[1m1s\u001b[0m 2ms/step - loss: 5488.6758 - mae: 51.9650 - val_loss: 1078.6256 - val_mae: 10.0899\n",
      "Epoch 19/100\n",
      "\u001b[1m302/302\u001b[0m \u001b[32m━━━━━━━━━━━━━━━━━━━━\u001b[0m\u001b[37m\u001b[0m \u001b[1m1s\u001b[0m 2ms/step - loss: 4795.5552 - mae: 49.1933 - val_loss: 1159.0720 - val_mae: 12.0853\n",
      "Epoch 20/100\n",
      "\u001b[1m302/302\u001b[0m \u001b[32m━━━━━━━━━━━━━━━━━━━━\u001b[0m\u001b[37m\u001b[0m \u001b[1m1s\u001b[0m 2ms/step - loss: 5054.8472 - mae: 50.9915 - val_loss: 1387.8171 - val_mae: 13.3944\n",
      "Epoch 21/100\n",
      "\u001b[1m302/302\u001b[0m \u001b[32m━━━━━━━━━━━━━━━━━━━━\u001b[0m\u001b[37m\u001b[0m \u001b[1m1s\u001b[0m 2ms/step - loss: 5297.1035 - mae: 50.5022 - val_loss: 1653.3390 - val_mae: 8.4910\n",
      "Epoch 22/100\n",
      "\u001b[1m302/302\u001b[0m \u001b[32m━━━━━━━━━━━━━━━━━━━━\u001b[0m\u001b[37m\u001b[0m \u001b[1m1s\u001b[0m 2ms/step - loss: 5054.9497 - mae: 50.1955 - val_loss: 1334.6992 - val_mae: 10.4012\n",
      "Epoch 23/100\n",
      "\u001b[1m302/302\u001b[0m \u001b[32m━━━━━━━━━━━━━━━━━━━━\u001b[0m\u001b[37m\u001b[0m \u001b[1m1s\u001b[0m 2ms/step - loss: 4871.9321 - mae: 49.6216 - val_loss: 1079.9924 - val_mae: 7.0347\n",
      "Epoch 24/100\n",
      "\u001b[1m302/302\u001b[0m \u001b[32m━━━━━━━━━━━━━━━━━━━━\u001b[0m\u001b[37m\u001b[0m \u001b[1m1s\u001b[0m 2ms/step - loss: 5096.1797 - mae: 50.6873 - val_loss: 1260.3757 - val_mae: 17.8868\n",
      "Epoch 25/100\n",
      "\u001b[1m302/302\u001b[0m \u001b[32m━━━━━━━━━━━━━━━━━━━━\u001b[0m\u001b[37m\u001b[0m \u001b[1m1s\u001b[0m 2ms/step - loss: 4676.7329 - mae: 48.9557 - val_loss: 1179.3381 - val_mae: 12.1695\n",
      "Epoch 26/100\n",
      "\u001b[1m302/302\u001b[0m \u001b[32m━━━━━━━━━━━━━━━━━━━━\u001b[0m\u001b[37m\u001b[0m \u001b[1m1s\u001b[0m 2ms/step - loss: 4708.9766 - mae: 48.5624 - val_loss: 1231.6008 - val_mae: 8.8214\n",
      "Epoch 27/100\n",
      "\u001b[1m302/302\u001b[0m \u001b[32m━━━━━━━━━━━━━━━━━━━━\u001b[0m\u001b[37m\u001b[0m \u001b[1m1s\u001b[0m 2ms/step - loss: 4712.1016 - mae: 48.6031 - val_loss: 1156.0118 - val_mae: 8.9378\n",
      "Epoch 28/100\n",
      "\u001b[1m302/302\u001b[0m \u001b[32m━━━━━━━━━━━━━━━━━━━━\u001b[0m\u001b[37m\u001b[0m \u001b[1m1s\u001b[0m 2ms/step - loss: 4897.7744 - mae: 49.3232 - val_loss: 1154.0555 - val_mae: 16.3454\n",
      "Epoch 29/100\n",
      "\u001b[1m302/302\u001b[0m \u001b[32m━━━━━━━━━━━━━━━━━━━━\u001b[0m\u001b[37m\u001b[0m \u001b[1m1s\u001b[0m 2ms/step - loss: 4555.6621 - mae: 48.2047 - val_loss: 828.8755 - val_mae: 12.8524\n",
      "Epoch 30/100\n",
      "\u001b[1m302/302\u001b[0m \u001b[32m━━━━━━━━━━━━━━━━━━━━\u001b[0m\u001b[37m\u001b[0m \u001b[1m1s\u001b[0m 2ms/step - loss: 4840.5469 - mae: 49.3277 - val_loss: 1167.8771 - val_mae: 9.5831\n",
      "Epoch 31/100\n",
      "\u001b[1m302/302\u001b[0m \u001b[32m━━━━━━━━━━━━━━━━━━━━\u001b[0m\u001b[37m\u001b[0m \u001b[1m1s\u001b[0m 2ms/step - loss: 4401.3501 - mae: 47.5693 - val_loss: 817.4813 - val_mae: 9.7392\n",
      "Epoch 32/100\n",
      "\u001b[1m302/302\u001b[0m \u001b[32m━━━━━━━━━━━━━━━━━━━━\u001b[0m\u001b[37m\u001b[0m \u001b[1m1s\u001b[0m 2ms/step - loss: 4817.8174 - mae: 48.6337 - val_loss: 891.0114 - val_mae: 10.2095\n",
      "Epoch 33/100\n",
      "\u001b[1m302/302\u001b[0m \u001b[32m━━━━━━━━━━━━━━━━━━━━\u001b[0m\u001b[37m\u001b[0m \u001b[1m1s\u001b[0m 3ms/step - loss: 5146.5420 - mae: 50.4118 - val_loss: 960.6947 - val_mae: 16.9046\n",
      "Epoch 34/100\n",
      "\u001b[1m302/302\u001b[0m \u001b[32m━━━━━━━━━━━━━━━━━━━━\u001b[0m\u001b[37m\u001b[0m \u001b[1m1s\u001b[0m 3ms/step - loss: 4341.7427 - mae: 46.6504 - val_loss: 1246.2666 - val_mae: 18.9215\n",
      "Epoch 35/100\n",
      "\u001b[1m302/302\u001b[0m \u001b[32m━━━━━━━━━━━━━━━━━━━━\u001b[0m\u001b[37m\u001b[0m \u001b[1m1s\u001b[0m 3ms/step - loss: 4610.8745 - mae: 48.4225 - val_loss: 565.6405 - val_mae: 9.1151\n",
      "Epoch 36/100\n",
      "\u001b[1m302/302\u001b[0m \u001b[32m━━━━━━━━━━━━━━━━━━━━\u001b[0m\u001b[37m\u001b[0m \u001b[1m1s\u001b[0m 3ms/step - loss: 4423.3652 - mae: 47.6019 - val_loss: 736.2057 - val_mae: 9.3515\n",
      "Epoch 37/100\n",
      "\u001b[1m302/302\u001b[0m \u001b[32m━━━━━━━━━━━━━━━━━━━━\u001b[0m\u001b[37m\u001b[0m \u001b[1m1s\u001b[0m 2ms/step - loss: 4462.7749 - mae: 47.7894 - val_loss: 806.2341 - val_mae: 9.4972\n",
      "Epoch 38/100\n",
      "\u001b[1m302/302\u001b[0m \u001b[32m━━━━━━━━━━━━━━━━━━━━\u001b[0m\u001b[37m\u001b[0m \u001b[1m1s\u001b[0m 3ms/step - loss: 4759.1768 - mae: 49.1633 - val_loss: 869.9748 - val_mae: 12.1686\n",
      "Epoch 39/100\n",
      "\u001b[1m302/302\u001b[0m \u001b[32m━━━━━━━━━━━━━━━━━━━━\u001b[0m\u001b[37m\u001b[0m \u001b[1m1s\u001b[0m 2ms/step - loss: 4437.0669 - mae: 47.1373 - val_loss: 494.9164 - val_mae: 10.2457\n",
      "Epoch 40/100\n",
      "\u001b[1m302/302\u001b[0m \u001b[32m━━━━━━━━━━━━━━━━━━━━\u001b[0m\u001b[37m\u001b[0m \u001b[1m1s\u001b[0m 2ms/step - loss: 4286.6572 - mae: 46.5638 - val_loss: 758.4958 - val_mae: 16.6591\n",
      "Epoch 41/100\n",
      "\u001b[1m302/302\u001b[0m \u001b[32m━━━━━━━━━━━━━━━━━━━━\u001b[0m\u001b[37m\u001b[0m \u001b[1m1s\u001b[0m 2ms/step - loss: 4322.2280 - mae: 46.7170 - val_loss: 594.4708 - val_mae: 8.0020\n",
      "Epoch 42/100\n",
      "\u001b[1m302/302\u001b[0m \u001b[32m━━━━━━━━━━━━━━━━━━━━\u001b[0m\u001b[37m\u001b[0m \u001b[1m1s\u001b[0m 2ms/step - loss: 4429.5503 - mae: 47.8608 - val_loss: 1047.9579 - val_mae: 20.9778\n",
      "Epoch 43/100\n",
      "\u001b[1m302/302\u001b[0m \u001b[32m━━━━━━━━━━━━━━━━━━━━\u001b[0m\u001b[37m\u001b[0m \u001b[1m1s\u001b[0m 2ms/step - loss: 4392.9253 - mae: 47.3377 - val_loss: 731.6755 - val_mae: 16.6383\n",
      "Epoch 44/100\n",
      "\u001b[1m302/302\u001b[0m \u001b[32m━━━━━━━━━━━━━━━━━━━━\u001b[0m\u001b[37m\u001b[0m \u001b[1m1s\u001b[0m 2ms/step - loss: 4509.5786 - mae: 47.4200 - val_loss: 642.3887 - val_mae: 12.7995\n",
      "Epoch 45/100\n",
      "\u001b[1m302/302\u001b[0m \u001b[32m━━━━━━━━━━━━━━━━━━━━\u001b[0m\u001b[37m\u001b[0m \u001b[1m1s\u001b[0m 2ms/step - loss: 4330.9175 - mae: 47.0930 - val_loss: 663.5297 - val_mae: 16.6268\n",
      "Epoch 46/100\n",
      "\u001b[1m302/302\u001b[0m \u001b[32m━━━━━━━━━━━━━━━━━━━━\u001b[0m\u001b[37m\u001b[0m \u001b[1m1s\u001b[0m 2ms/step - loss: 4437.1445 - mae: 46.8607 - val_loss: 936.9050 - val_mae: 17.0321\n",
      "Epoch 47/100\n",
      "\u001b[1m302/302\u001b[0m \u001b[32m━━━━━━━━━━━━━━━━━━━━\u001b[0m\u001b[37m\u001b[0m \u001b[1m1s\u001b[0m 2ms/step - loss: 4412.9683 - mae: 46.8711 - val_loss: 373.7059 - val_mae: 9.4970\n",
      "Epoch 48/100\n",
      "\u001b[1m302/302\u001b[0m \u001b[32m━━━━━━━━━━━━━━━━━━━━\u001b[0m\u001b[37m\u001b[0m \u001b[1m1s\u001b[0m 2ms/step - loss: 4291.4600 - mae: 47.0034 - val_loss: 527.4252 - val_mae: 11.7530\n",
      "Epoch 49/100\n",
      "\u001b[1m302/302\u001b[0m \u001b[32m━━━━━━━━━━━━━━━━━━━━\u001b[0m\u001b[37m\u001b[0m \u001b[1m1s\u001b[0m 2ms/step - loss: 4338.5200 - mae: 47.1464 - val_loss: 487.3041 - val_mae: 12.4733\n",
      "Epoch 50/100\n",
      "\u001b[1m302/302\u001b[0m \u001b[32m━━━━━━━━━━━━━━━━━━━━\u001b[0m\u001b[37m\u001b[0m \u001b[1m1s\u001b[0m 2ms/step - loss: 4331.1582 - mae: 46.8785 - val_loss: 387.4032 - val_mae: 11.2137\n",
      "Epoch 51/100\n",
      "\u001b[1m302/302\u001b[0m \u001b[32m━━━━━━━━━━━━━━━━━━━━\u001b[0m\u001b[37m\u001b[0m \u001b[1m1s\u001b[0m 2ms/step - loss: 4438.5518 - mae: 47.2800 - val_loss: 846.9824 - val_mae: 20.9458\n"
     ]
    },
    {
     "name": "stdout",
     "output_type": "stream",
     "text": [
      "Epoch 52/100\n",
      "\u001b[1m302/302\u001b[0m \u001b[32m━━━━━━━━━━━━━━━━━━━━\u001b[0m\u001b[37m\u001b[0m \u001b[1m1s\u001b[0m 2ms/step - loss: 4257.1885 - mae: 46.7610 - val_loss: 719.9034 - val_mae: 19.1351\n",
      "Epoch 53/100\n",
      "\u001b[1m302/302\u001b[0m \u001b[32m━━━━━━━━━━━━━━━━━━━━\u001b[0m\u001b[37m\u001b[0m \u001b[1m1s\u001b[0m 2ms/step - loss: 4115.3018 - mae: 45.4636 - val_loss: 741.5686 - val_mae: 18.3004\n",
      "Epoch 54/100\n",
      "\u001b[1m302/302\u001b[0m \u001b[32m━━━━━━━━━━━━━━━━━━━━\u001b[0m\u001b[37m\u001b[0m \u001b[1m1s\u001b[0m 3ms/step - loss: 4326.2861 - mae: 46.4679 - val_loss: 463.8109 - val_mae: 13.6869\n",
      "Epoch 55/100\n",
      "\u001b[1m302/302\u001b[0m \u001b[32m━━━━━━━━━━━━━━━━━━━━\u001b[0m\u001b[37m\u001b[0m \u001b[1m1s\u001b[0m 2ms/step - loss: 4263.0967 - mae: 46.3522 - val_loss: 726.8146 - val_mae: 13.4243\n",
      "Epoch 56/100\n",
      "\u001b[1m302/302\u001b[0m \u001b[32m━━━━━━━━━━━━━━━━━━━━\u001b[0m\u001b[37m\u001b[0m \u001b[1m1s\u001b[0m 3ms/step - loss: 3983.9478 - mae: 45.2405 - val_loss: 816.6415 - val_mae: 16.3987\n",
      "Epoch 57/100\n",
      "\u001b[1m302/302\u001b[0m \u001b[32m━━━━━━━━━━━━━━━━━━━━\u001b[0m\u001b[37m\u001b[0m \u001b[1m1s\u001b[0m 3ms/step - loss: 4062.5962 - mae: 45.4819 - val_loss: 588.0071 - val_mae: 12.3721\n",
      "Epoch 58/100\n",
      "\u001b[1m302/302\u001b[0m \u001b[32m━━━━━━━━━━━━━━━━━━━━\u001b[0m\u001b[37m\u001b[0m \u001b[1m1s\u001b[0m 3ms/step - loss: 4172.7954 - mae: 46.1423 - val_loss: 607.1158 - val_mae: 13.8128\n",
      "Epoch 59/100\n",
      "\u001b[1m302/302\u001b[0m \u001b[32m━━━━━━━━━━━━━━━━━━━━\u001b[0m\u001b[37m\u001b[0m \u001b[1m1s\u001b[0m 2ms/step - loss: 4145.7954 - mae: 46.0239 - val_loss: 864.6765 - val_mae: 21.5016\n",
      "Epoch 60/100\n",
      "\u001b[1m302/302\u001b[0m \u001b[32m━━━━━━━━━━━━━━━━━━━━\u001b[0m\u001b[37m\u001b[0m \u001b[1m1s\u001b[0m 2ms/step - loss: 4305.2612 - mae: 46.6920 - val_loss: 529.1030 - val_mae: 10.7716\n",
      "Epoch 61/100\n",
      "\u001b[1m302/302\u001b[0m \u001b[32m━━━━━━━━━━━━━━━━━━━━\u001b[0m\u001b[37m\u001b[0m \u001b[1m1s\u001b[0m 2ms/step - loss: 4022.7585 - mae: 45.7711 - val_loss: 515.1607 - val_mae: 12.6237\n",
      "Epoch 62/100\n",
      "\u001b[1m302/302\u001b[0m \u001b[32m━━━━━━━━━━━━━━━━━━━━\u001b[0m\u001b[37m\u001b[0m \u001b[1m1s\u001b[0m 2ms/step - loss: 4111.4561 - mae: 45.3943 - val_loss: 456.8683 - val_mae: 11.9946\n",
      "Epoch 63/100\n",
      "\u001b[1m302/302\u001b[0m \u001b[32m━━━━━━━━━━━━━━━━━━━━\u001b[0m\u001b[37m\u001b[0m \u001b[1m1s\u001b[0m 2ms/step - loss: 4142.8535 - mae: 45.9955 - val_loss: 544.1368 - val_mae: 13.4426\n",
      "Epoch 64/100\n",
      "\u001b[1m302/302\u001b[0m \u001b[32m━━━━━━━━━━━━━━━━━━━━\u001b[0m\u001b[37m\u001b[0m \u001b[1m1s\u001b[0m 2ms/step - loss: 4131.5400 - mae: 45.2844 - val_loss: 628.4030 - val_mae: 16.0694\n",
      "Epoch 65/100\n",
      "\u001b[1m302/302\u001b[0m \u001b[32m━━━━━━━━━━━━━━━━━━━━\u001b[0m\u001b[37m\u001b[0m \u001b[1m1s\u001b[0m 2ms/step - loss: 4082.1711 - mae: 45.9792 - val_loss: 1382.6130 - val_mae: 27.9757\n",
      "Epoch 66/100\n",
      "\u001b[1m302/302\u001b[0m \u001b[32m━━━━━━━━━━━━━━━━━━━━\u001b[0m\u001b[37m\u001b[0m \u001b[1m1s\u001b[0m 2ms/step - loss: 4056.3655 - mae: 45.6498 - val_loss: 800.7405 - val_mae: 21.2417\n",
      "Epoch 67/100\n",
      "\u001b[1m302/302\u001b[0m \u001b[32m━━━━━━━━━━━━━━━━━━━━\u001b[0m\u001b[37m\u001b[0m \u001b[1m1s\u001b[0m 2ms/step - loss: 4013.8652 - mae: 45.2100 - val_loss: 903.7171 - val_mae: 22.5200\n",
      "Epoch 68/100\n",
      "\u001b[1m302/302\u001b[0m \u001b[32m━━━━━━━━━━━━━━━━━━━━\u001b[0m\u001b[37m\u001b[0m \u001b[1m1s\u001b[0m 2ms/step - loss: 4110.5972 - mae: 45.9121 - val_loss: 760.4175 - val_mae: 17.1092\n",
      "Epoch 69/100\n",
      "\u001b[1m302/302\u001b[0m \u001b[32m━━━━━━━━━━━━━━━━━━━━\u001b[0m\u001b[37m\u001b[0m \u001b[1m1s\u001b[0m 2ms/step - loss: 4355.6313 - mae: 47.2202 - val_loss: 736.4791 - val_mae: 15.6521\n",
      "Epoch 70/100\n",
      "\u001b[1m302/302\u001b[0m \u001b[32m━━━━━━━━━━━━━━━━━━━━\u001b[0m\u001b[37m\u001b[0m \u001b[1m1s\u001b[0m 2ms/step - loss: 4079.4771 - mae: 45.4190 - val_loss: 974.6319 - val_mae: 20.7364\n",
      "Epoch 71/100\n",
      "\u001b[1m302/302\u001b[0m \u001b[32m━━━━━━━━━━━━━━━━━━━━\u001b[0m\u001b[37m\u001b[0m \u001b[1m1s\u001b[0m 2ms/step - loss: 3727.5259 - mae: 43.9919 - val_loss: 792.6510 - val_mae: 18.0163\n",
      "Epoch 72/100\n",
      "\u001b[1m302/302\u001b[0m \u001b[32m━━━━━━━━━━━━━━━━━━━━\u001b[0m\u001b[37m\u001b[0m \u001b[1m1s\u001b[0m 2ms/step - loss: 3890.5837 - mae: 45.0617 - val_loss: 1572.5685 - val_mae: 29.7488\n",
      "Epoch 73/100\n",
      "\u001b[1m302/302\u001b[0m \u001b[32m━━━━━━━━━━━━━━━━━━━━\u001b[0m\u001b[37m\u001b[0m \u001b[1m1s\u001b[0m 2ms/step - loss: 4326.0781 - mae: 46.7914 - val_loss: 944.5466 - val_mae: 24.2742\n",
      "Epoch 74/100\n",
      "\u001b[1m302/302\u001b[0m \u001b[32m━━━━━━━━━━━━━━━━━━━━\u001b[0m\u001b[37m\u001b[0m \u001b[1m1s\u001b[0m 2ms/step - loss: 4064.6138 - mae: 45.5714 - val_loss: 733.1520 - val_mae: 19.3284\n",
      "Epoch 75/100\n",
      "\u001b[1m302/302\u001b[0m \u001b[32m━━━━━━━━━━━━━━━━━━━━\u001b[0m\u001b[37m\u001b[0m \u001b[1m1s\u001b[0m 2ms/step - loss: 4018.2639 - mae: 45.5275 - val_loss: 780.9069 - val_mae: 20.9366\n",
      "Epoch 76/100\n",
      "\u001b[1m302/302\u001b[0m \u001b[32m━━━━━━━━━━━━━━━━━━━━\u001b[0m\u001b[37m\u001b[0m \u001b[1m1s\u001b[0m 2ms/step - loss: 3942.0833 - mae: 45.2093 - val_loss: 587.4862 - val_mae: 14.3771\n",
      "Epoch 77/100\n",
      "\u001b[1m302/302\u001b[0m \u001b[32m━━━━━━━━━━━━━━━━━━━━\u001b[0m\u001b[37m\u001b[0m \u001b[1m1s\u001b[0m 3ms/step - loss: 3996.3220 - mae: 45.1527 - val_loss: 460.9563 - val_mae: 14.5004\n",
      "Epoch 78/100\n",
      "\u001b[1m302/302\u001b[0m \u001b[32m━━━━━━━━━━━━━━━━━━━━\u001b[0m\u001b[37m\u001b[0m \u001b[1m1s\u001b[0m 3ms/step - loss: 3987.5469 - mae: 45.3135 - val_loss: 657.8975 - val_mae: 16.5317\n",
      "Epoch 79/100\n",
      "\u001b[1m302/302\u001b[0m \u001b[32m━━━━━━━━━━━━━━━━━━━━\u001b[0m\u001b[37m\u001b[0m \u001b[1m1s\u001b[0m 3ms/step - loss: 3965.6963 - mae: 45.1293 - val_loss: 623.8677 - val_mae: 15.4883\n",
      "Epoch 80/100\n",
      "\u001b[1m302/302\u001b[0m \u001b[32m━━━━━━━━━━━━━━━━━━━━\u001b[0m\u001b[37m\u001b[0m \u001b[1m1s\u001b[0m 3ms/step - loss: 3967.7803 - mae: 44.9236 - val_loss: 814.0801 - val_mae: 17.3124\n",
      "Epoch 81/100\n",
      "\u001b[1m302/302\u001b[0m \u001b[32m━━━━━━━━━━━━━━━━━━━━\u001b[0m\u001b[37m\u001b[0m \u001b[1m1s\u001b[0m 3ms/step - loss: 4138.0576 - mae: 46.1830 - val_loss: 599.7789 - val_mae: 15.1913\n",
      "Epoch 82/100\n",
      "\u001b[1m302/302\u001b[0m \u001b[32m━━━━━━━━━━━━━━━━━━━━\u001b[0m\u001b[37m\u001b[0m \u001b[1m1s\u001b[0m 2ms/step - loss: 3796.8760 - mae: 44.3037 - val_loss: 820.0665 - val_mae: 20.5232\n",
      "Epoch 83/100\n",
      "\u001b[1m302/302\u001b[0m \u001b[32m━━━━━━━━━━━━━━━━━━━━\u001b[0m\u001b[37m\u001b[0m \u001b[1m1s\u001b[0m 2ms/step - loss: 3972.7485 - mae: 44.8774 - val_loss: 696.9955 - val_mae: 19.7171\n",
      "Epoch 84/100\n",
      "\u001b[1m302/302\u001b[0m \u001b[32m━━━━━━━━━━━━━━━━━━━━\u001b[0m\u001b[37m\u001b[0m \u001b[1m1s\u001b[0m 2ms/step - loss: 4125.2451 - mae: 45.7360 - val_loss: 859.9800 - val_mae: 21.1952\n",
      "Epoch 85/100\n",
      "\u001b[1m302/302\u001b[0m \u001b[32m━━━━━━━━━━━━━━━━━━━━\u001b[0m\u001b[37m\u001b[0m \u001b[1m1s\u001b[0m 2ms/step - loss: 3783.7969 - mae: 44.0467 - val_loss: 931.2775 - val_mae: 18.4896\n",
      "Epoch 86/100\n",
      "\u001b[1m302/302\u001b[0m \u001b[32m━━━━━━━━━━━━━━━━━━━━\u001b[0m\u001b[37m\u001b[0m \u001b[1m1s\u001b[0m 2ms/step - loss: 3786.0449 - mae: 44.3189 - val_loss: 741.0563 - val_mae: 13.7218\n",
      "Epoch 87/100\n",
      "\u001b[1m302/302\u001b[0m \u001b[32m━━━━━━━━━━━━━━━━━━━━\u001b[0m\u001b[37m\u001b[0m \u001b[1m1s\u001b[0m 2ms/step - loss: 3797.9937 - mae: 43.8330 - val_loss: 825.5432 - val_mae: 18.7050\n",
      "Epoch 88/100\n",
      "\u001b[1m302/302\u001b[0m \u001b[32m━━━━━━━━━━━━━━━━━━━━\u001b[0m\u001b[37m\u001b[0m \u001b[1m1s\u001b[0m 2ms/step - loss: 3754.0334 - mae: 43.7970 - val_loss: 787.0554 - val_mae: 15.5545\n",
      "Epoch 89/100\n",
      "\u001b[1m302/302\u001b[0m \u001b[32m━━━━━━━━━━━━━━━━━━━━\u001b[0m\u001b[37m\u001b[0m \u001b[1m1s\u001b[0m 2ms/step - loss: 3840.5127 - mae: 44.4502 - val_loss: 838.8490 - val_mae: 16.7550\n",
      "Epoch 90/100\n",
      "\u001b[1m302/302\u001b[0m \u001b[32m━━━━━━━━━━━━━━━━━━━━\u001b[0m\u001b[37m\u001b[0m \u001b[1m1s\u001b[0m 2ms/step - loss: 3860.3164 - mae: 44.3182 - val_loss: 841.1079 - val_mae: 19.4469\n",
      "Epoch 91/100\n",
      "\u001b[1m302/302\u001b[0m \u001b[32m━━━━━━━━━━━━━━━━━━━━\u001b[0m\u001b[37m\u001b[0m \u001b[1m1s\u001b[0m 2ms/step - loss: 3930.7422 - mae: 44.6623 - val_loss: 890.3065 - val_mae: 18.2566\n",
      "Epoch 92/100\n",
      "\u001b[1m302/302\u001b[0m \u001b[32m━━━━━━━━━━━━━━━━━━━━\u001b[0m\u001b[37m\u001b[0m \u001b[1m1s\u001b[0m 2ms/step - loss: 3781.8789 - mae: 43.9659 - val_loss: 798.6575 - val_mae: 20.4329\n",
      "Epoch 93/100\n",
      "\u001b[1m302/302\u001b[0m \u001b[32m━━━━━━━━━━━━━━━━━━━━\u001b[0m\u001b[37m\u001b[0m \u001b[1m1s\u001b[0m 2ms/step - loss: 3876.1746 - mae: 44.7600 - val_loss: 1001.7068 - val_mae: 19.4103\n",
      "Epoch 94/100\n",
      "\u001b[1m302/302\u001b[0m \u001b[32m━━━━━━━━━━━━━━━━━━━━\u001b[0m\u001b[37m\u001b[0m \u001b[1m1s\u001b[0m 2ms/step - loss: 3704.5762 - mae: 43.8322 - val_loss: 915.7574 - val_mae: 17.7255\n",
      "Epoch 95/100\n",
      "\u001b[1m302/302\u001b[0m \u001b[32m━━━━━━━━━━━━━━━━━━━━\u001b[0m\u001b[37m\u001b[0m \u001b[1m1s\u001b[0m 2ms/step - loss: 3839.4187 - mae: 44.5853 - val_loss: 874.1328 - val_mae: 18.9355\n",
      "Epoch 96/100\n",
      "\u001b[1m302/302\u001b[0m \u001b[32m━━━━━━━━━━━━━━━━━━━━\u001b[0m\u001b[37m\u001b[0m \u001b[1m1s\u001b[0m 2ms/step - loss: 4034.9629 - mae: 44.7020 - val_loss: 890.7673 - val_mae: 16.9447\n",
      "Epoch 97/100\n",
      "\u001b[1m302/302\u001b[0m \u001b[32m━━━━━━━━━━━━━━━━━━━━\u001b[0m\u001b[37m\u001b[0m \u001b[1m1s\u001b[0m 2ms/step - loss: 3872.9221 - mae: 44.0829 - val_loss: 1075.1576 - val_mae: 21.1573\n",
      "Epoch 98/100\n",
      "\u001b[1m302/302\u001b[0m \u001b[32m━━━━━━━━━━━━━━━━━━━━\u001b[0m\u001b[37m\u001b[0m \u001b[1m1s\u001b[0m 2ms/step - loss: 3596.8167 - mae: 43.0841 - val_loss: 1062.7006 - val_mae: 18.1713\n",
      "Epoch 99/100\n",
      "\u001b[1m302/302\u001b[0m \u001b[32m━━━━━━━━━━━━━━━━━━━━\u001b[0m\u001b[37m\u001b[0m \u001b[1m1s\u001b[0m 3ms/step - loss: 4032.2241 - mae: 44.7573 - val_loss: 887.7648 - val_mae: 17.3819\n",
      "Epoch 100/100\n",
      "\u001b[1m302/302\u001b[0m \u001b[32m━━━━━━━━━━━━━━━━━━━━\u001b[0m\u001b[37m\u001b[0m \u001b[1m1s\u001b[0m 3ms/step - loss: 3754.0986 - mae: 43.2749 - val_loss: 1029.8107 - val_mae: 21.0098\n"
     ]
    }
   ],
   "source": [
    "# Train the model\n",
    "history = model.fit(X_train, y_train, validation_split=0.2, epochs=100, batch_size=32, verbose=1)"
   ]
  },
  {
   "cell_type": "code",
   "execution_count": 13,
   "id": "47f889ef",
   "metadata": {},
   "outputs": [
    {
     "name": "stdout",
     "output_type": "stream",
     "text": [
      "\u001b[1m95/95\u001b[0m \u001b[32m━━━━━━━━━━━━━━━━━━━━\u001b[0m\u001b[37m\u001b[0m \u001b[1m0s\u001b[0m 1ms/step - loss: 677.3660 - mae: 20.6786\n",
      "Test Mean Absolute Error: 21.07\n"
     ]
    }
   ],
   "source": [
    "# Evaluate the model on the test data\n",
    "test_loss, test_mae = model.evaluate(X_test, y_test, verbose=1)\n",
    "print(f'Test Mean Absolute Error: {test_mae:.2f}')"
   ]
  },
  {
   "cell_type": "code",
   "execution_count": 14,
   "id": "6d1d8825",
   "metadata": {},
   "outputs": [
    {
     "name": "stdout",
     "output_type": "stream",
     "text": [
      "\u001b[1m95/95\u001b[0m \u001b[32m━━━━━━━━━━━━━━━━━━━━\u001b[0m\u001b[37m\u001b[0m \u001b[1m0s\u001b[0m 2ms/step\n"
     ]
    }
   ],
   "source": [
    "# Make predictions on the test data\n",
    "y_pred = model.predict(X_test)"
   ]
  },
  {
   "cell_type": "code",
   "execution_count": 15,
   "id": "a27c8709",
   "metadata": {},
   "outputs": [
    {
     "name": "stdout",
     "output_type": "stream",
     "text": [
      "Predicted RUL: 1016.65, Actual RUL: 1043.00\n",
      "Predicted RUL: 909.03, Actual RUL: 956.00\n",
      "Predicted RUL: 477.35, Actual RUL: 469.00\n",
      "Predicted RUL: 208.28, Actual RUL: 176.00\n",
      "Predicted RUL: 924.63, Actual RUL: 943.00\n",
      "Predicted RUL: 617.84, Actual RUL: 617.00\n",
      "Predicted RUL: 236.63, Actual RUL: 207.00\n",
      "Predicted RUL: 79.52, Actual RUL: 32.00\n",
      "Predicted RUL: 76.44, Actual RUL: 23.00\n",
      "Predicted RUL: 77.93, Actual RUL: 22.00\n"
     ]
    }
   ],
   "source": [
    "# Output first few predictions and actual RUL values for comparison\n",
    "for i in range(10):\n",
    "    print(f'Predicted RUL: {y_pred[i][0]:.2f}, Actual RUL: {y_test[i]:.2f}')"
   ]
  },
  {
   "cell_type": "code",
   "execution_count": 16,
   "id": "4bbd9180",
   "metadata": {},
   "outputs": [],
   "source": [
    "from sklearn.metrics import mean_squared_error, mean_absolute_error, r2_score"
   ]
  },
  {
   "cell_type": "code",
   "execution_count": 17,
   "id": "40185cf8",
   "metadata": {},
   "outputs": [
    {
     "name": "stdout",
     "output_type": "stream",
     "text": [
      "Mean Squared Error (MSE): 761.7741715211274\n"
     ]
    }
   ],
   "source": [
    "# Calculate Mean Squared Error (MSE)\n",
    "mse = mean_squared_error(y_test, y_pred)\n",
    "print(f'Mean Squared Error (MSE): {mse}')"
   ]
  },
  {
   "cell_type": "code",
   "execution_count": 18,
   "id": "ec660bf5",
   "metadata": {},
   "outputs": [
    {
     "name": "stdout",
     "output_type": "stream",
     "text": [
      "Root Mean Squared Error (RMSE): 27.600256729261186\n"
     ]
    }
   ],
   "source": [
    "# Calculate Root Mean Squared Error (RMSE)\n",
    "rmse = np.sqrt(mse)\n",
    "print(f'Root Mean Squared Error (RMSE): {rmse}')"
   ]
  },
  {
   "cell_type": "code",
   "execution_count": 19,
   "id": "a68ac107",
   "metadata": {},
   "outputs": [
    {
     "name": "stdout",
     "output_type": "stream",
     "text": [
      "Mean Absolute Error (MAE): 21.07428883825708\n"
     ]
    }
   ],
   "source": [
    "# Calculate Mean Absolute Error (MAE)\n",
    "mae = mean_absolute_error(y_test, y_pred)\n",
    "print(f'Mean Absolute Error (MAE): {mae}')"
   ]
  },
  {
   "cell_type": "code",
   "execution_count": 20,
   "id": "027fc32d",
   "metadata": {},
   "outputs": [
    {
     "name": "stdout",
     "output_type": "stream",
     "text": [
      "R-squared: 0.9926459460659779\n"
     ]
    }
   ],
   "source": [
    "# Calculate R-squared (Coefficient of Determination)\n",
    "r2 = r2_score(y_test, y_pred)\n",
    "print(f'R-squared: {r2}')"
   ]
  },
  {
   "cell_type": "code",
   "execution_count": 21,
   "id": "375051cb",
   "metadata": {},
   "outputs": [],
   "source": [
    "import matplotlib.pyplot as plt"
   ]
  },
  {
   "cell_type": "code",
   "execution_count": 22,
   "id": "41f39308",
   "metadata": {},
   "outputs": [
    {
     "data": {
      "image/png": "[encoded data removed]",
      "text/plain": [
       "<Figure size 640x480 with 1 Axes>"
      ]
     },
     "metadata": {},
     "output_type": "display_data"
    }
   ],
   "source": [
    "# Plot training & validation loss values\n",
    "plt.plot(history.history['loss'])\n",
    "plt.plot(history.history['val_loss'])\n",
    "plt.title('Model Loss')\n",
    "plt.xlabel('Epoch')\n",
    "plt.ylabel('Loss')\n",
    "plt.legend(['Train', 'Validation'], loc='upper right')\n",
    "plt.show()"
   ]
  },
  {
   "cell_type": "code",
   "execution_count": 23,
   "id": "5400d922",
   "metadata": {},
   "outputs": [],
   "source": [
    "#Training with other Optimizers"
   ]
  },
  {
   "cell_type": "code",
   "execution_count": 24,
   "id": "4476eba3",
   "metadata": {},
   "outputs": [],
   "source": [
    "from tensorflow.keras.optimizers import SGD, RMSprop, Adamax"
   ]
  },
  {
   "cell_type": "code",
   "execution_count": 25,
   "id": "9e31a39a",
   "metadata": {},
   "outputs": [],
   "source": [
    "#Switching between optimizers without resetting or reinitializing the model could have caused the internal state of the model to become corrupted. This can lead to 'nan'(not a number) values during training. To avoid this, dataset is reloaded, model is redeveloped and recompiled."
   ]
  },
  {
   "cell_type": "code",
   "execution_count": 26,
   "id": "41aa62c8",
   "metadata": {},
   "outputs": [],
   "source": [
    "#Reloading the Dataset\n",
    "file_path = r'C:\\Program Files\\Battery_RUL.csv'\n",
    "df = pd.read_csv(file_path)"
   ]
  },
  {
   "cell_type": "code",
   "execution_count": 27,
   "id": "be0f27a0",
   "metadata": {},
   "outputs": [],
   "source": [
    "X = df[features].values\n",
    "y = df[target].values"
   ]
  },
  {
   "cell_type": "code",
   "execution_count": 28,
   "id": "c3e424b2",
   "metadata": {},
   "outputs": [],
   "source": [
    "# Standardize the features\n",
    "X_train, X_test, y_train, y_test = train_test_split(X, y, test_size=0.2, random_state=42)\n",
    "scaler = StandardScaler()\n",
    "X_train = scaler.fit_transform(X_train)\n",
    "X_test = scaler.transform(X_test)"
   ]
  },
  {
   "cell_type": "code",
   "execution_count": 29,
   "id": "1a2e9018",
   "metadata": {},
   "outputs": [],
   "source": [
    "# Define the neural network model\n",
    "model = Sequential([\n",
    "    Input(shape=(X_train.shape[1],)),  # Input layer with the shape of the feature space\n",
    "    Dense(64, activation='relu'),  # Hidden layer with 64 neurons\n",
    "    Dropout(0.2),  # Dropout layer to prevent overfitting\n",
    "    Dense(128, activation='relu'),  # Hidden layer with 128 neurons\n",
    "    Dropout(0.2),  # Dropout layer\n",
    "    Dense(64, activation='relu'),  # Hidden layer with 64 neurons\n",
    "    Dropout(0.2),  # Dropout layer\n",
    "    Dense(1)  # Output layer for regression (no activation function)\n",
    "])"
   ]
  },
  {
   "cell_type": "code",
   "execution_count": 30,
   "id": "bb40a6a0",
   "metadata": {},
   "outputs": [],
   "source": [
    "#Training with SGD"
   ]
  },
  {
   "cell_type": "code",
   "execution_count": 31,
   "id": "cebb8a64",
   "metadata": {},
   "outputs": [],
   "source": [
    "optimizer_sgd = SGD(learning_rate=0.001, clipvalue=1.0)"
   ]
  },
  {
   "cell_type": "code",
   "execution_count": 32,
   "id": "8cdc4e96",
   "metadata": {},
   "outputs": [],
   "source": [
    "model.compile(optimizer=optimizer_sgd, loss='mse', metrics=['mae'])"
   ]
  },
  {
   "cell_type": "code",
   "execution_count": 33,
   "id": "46aabba5",
   "metadata": {},
   "outputs": [
    {
     "name": "stdout",
     "output_type": "stream",
     "text": [
      "Epoch 1/100\n",
      "\u001b[1m302/302\u001b[0m \u001b[32m━━━━━━━━━━━━━━━━━━━━\u001b[0m\u001b[37m\u001b[0m \u001b[1m2s\u001b[0m 3ms/step - loss: 291817.3125 - mae: 438.5956 - val_loss: 26720.6992 - val_mae: 60.5435\n",
      "Epoch 2/100\n",
      "\u001b[1m302/302\u001b[0m \u001b[32m━━━━━━━━━━━━━━━━━━━━\u001b[0m\u001b[37m\u001b[0m \u001b[1m1s\u001b[0m 2ms/step - loss: 11793.4434 - mae: 74.1732 - val_loss: 22732.4629 - val_mae: 28.3231\n",
      "Epoch 3/100\n",
      "\u001b[1m302/302\u001b[0m \u001b[32m━━━━━━━━━━━━━━━━━━━━\u001b[0m\u001b[37m\u001b[0m \u001b[1m1s\u001b[0m 2ms/step - loss: 9381.1797 - mae: 61.2893 - val_loss: 23412.3262 - val_mae: 47.0221\n",
      "Epoch 4/100\n",
      "\u001b[1m302/302\u001b[0m \u001b[32m━━━━━━━━━━━━━━━━━━━━\u001b[0m\u001b[37m\u001b[0m \u001b[1m1s\u001b[0m 3ms/step - loss: 8601.8174 - mae: 59.4945 - val_loss: 25056.4844 - val_mae: 24.2464\n",
      "Epoch 5/100\n",
      "\u001b[1m302/302\u001b[0m \u001b[32m━━━━━━━━━━━━━━━━━━━━\u001b[0m\u001b[37m\u001b[0m \u001b[1m1s\u001b[0m 2ms/step - loss: 7829.6812 - mae: 56.3106 - val_loss: 23483.3555 - val_mae: 26.6604\n",
      "Epoch 6/100\n",
      "\u001b[1m302/302\u001b[0m \u001b[32m━━━━━━━━━━━━━━━━━━━━\u001b[0m\u001b[37m\u001b[0m \u001b[1m1s\u001b[0m 2ms/step - loss: 7973.9702 - mae: 56.7571 - val_loss: 22943.1777 - val_mae: 21.4036\n",
      "Epoch 7/100\n",
      "\u001b[1m302/302\u001b[0m \u001b[32m━━━━━━━━━━━━━━━━━━━━\u001b[0m\u001b[37m\u001b[0m \u001b[1m1s\u001b[0m 2ms/step - loss: 8167.8096 - mae: 55.4721 - val_loss: 21255.6973 - val_mae: 37.8353\n",
      "Epoch 8/100\n",
      "\u001b[1m302/302\u001b[0m \u001b[32m━━━━━━━━━━━━━━━━━━━━\u001b[0m\u001b[37m\u001b[0m \u001b[1m1s\u001b[0m 2ms/step - loss: 7962.6621 - mae: 55.5685 - val_loss: 21697.7617 - val_mae: 23.0787\n",
      "Epoch 9/100\n",
      "\u001b[1m302/302\u001b[0m \u001b[32m━━━━━━━━━━━━━━━━━━━━\u001b[0m\u001b[37m\u001b[0m \u001b[1m1s\u001b[0m 2ms/step - loss: 8541.9531 - mae: 55.7884 - val_loss: 21995.0312 - val_mae: 29.2792\n",
      "Epoch 10/100\n",
      "\u001b[1m302/302\u001b[0m \u001b[32m━━━━━━━━━━━━━━━━━━━━\u001b[0m\u001b[37m\u001b[0m \u001b[1m1s\u001b[0m 2ms/step - loss: 7659.5049 - mae: 54.0784 - val_loss: 24118.4961 - val_mae: 18.3891\n",
      "Epoch 11/100\n",
      "\u001b[1m302/302\u001b[0m \u001b[32m━━━━━━━━━━━━━━━━━━━━\u001b[0m\u001b[37m\u001b[0m \u001b[1m1s\u001b[0m 2ms/step - loss: 7102.9443 - mae: 52.9941 - val_loss: 25187.4609 - val_mae: 19.9584\n",
      "Epoch 12/100\n",
      "\u001b[1m302/302\u001b[0m \u001b[32m━━━━━━━━━━━━━━━━━━━━\u001b[0m\u001b[37m\u001b[0m \u001b[1m1s\u001b[0m 2ms/step - loss: 7662.9009 - mae: 52.8096 - val_loss: 25728.3613 - val_mae: 30.3180\n",
      "Epoch 13/100\n",
      "\u001b[1m302/302\u001b[0m \u001b[32m━━━━━━━━━━━━━━━━━━━━\u001b[0m\u001b[37m\u001b[0m \u001b[1m1s\u001b[0m 2ms/step - loss: 7763.6318 - mae: 53.1260 - val_loss: 22383.8848 - val_mae: 30.1345\n",
      "Epoch 14/100\n",
      "\u001b[1m302/302\u001b[0m \u001b[32m━━━━━━━━━━━━━━━━━━━━\u001b[0m\u001b[37m\u001b[0m \u001b[1m1s\u001b[0m 2ms/step - loss: 6475.8530 - mae: 52.7802 - val_loss: 23036.6953 - val_mae: 20.7709\n",
      "Epoch 15/100\n",
      "\u001b[1m302/302\u001b[0m \u001b[32m━━━━━━━━━━━━━━━━━━━━\u001b[0m\u001b[37m\u001b[0m \u001b[1m1s\u001b[0m 2ms/step - loss: 8217.1211 - mae: 54.3876 - val_loss: 21281.7793 - val_mae: 26.3678\n",
      "Epoch 16/100\n",
      "\u001b[1m302/302\u001b[0m \u001b[32m━━━━━━━━━━━━━━━━━━━━\u001b[0m\u001b[37m\u001b[0m \u001b[1m1s\u001b[0m 2ms/step - loss: 7610.2769 - mae: 53.2534 - val_loss: 20664.7246 - val_mae: 20.2534\n",
      "Epoch 17/100\n",
      "\u001b[1m302/302\u001b[0m \u001b[32m━━━━━━━━━━━━━━━━━━━━\u001b[0m\u001b[37m\u001b[0m \u001b[1m1s\u001b[0m 2ms/step - loss: 7403.3467 - mae: 53.5743 - val_loss: 20695.2383 - val_mae: 15.6623\n",
      "Epoch 18/100\n",
      "\u001b[1m302/302\u001b[0m \u001b[32m━━━━━━━━━━━━━━━━━━━━\u001b[0m\u001b[37m\u001b[0m \u001b[1m1s\u001b[0m 2ms/step - loss: 7782.9194 - mae: 51.9024 - val_loss: 20904.4277 - val_mae: 20.9447\n",
      "Epoch 19/100\n",
      "\u001b[1m302/302\u001b[0m \u001b[32m━━━━━━━━━━━━━━━━━━━━\u001b[0m\u001b[37m\u001b[0m \u001b[1m1s\u001b[0m 2ms/step - loss: 6945.5542 - mae: 51.4176 - val_loss: 20097.5039 - val_mae: 37.0259\n",
      "Epoch 20/100\n",
      "\u001b[1m302/302\u001b[0m \u001b[32m━━━━━━━━━━━━━━━━━━━━\u001b[0m\u001b[37m\u001b[0m \u001b[1m1s\u001b[0m 2ms/step - loss: 7617.0000 - mae: 51.2791 - val_loss: 20965.9980 - val_mae: 18.3356\n",
      "Epoch 21/100\n",
      "\u001b[1m302/302\u001b[0m \u001b[32m━━━━━━━━━━━━━━━━━━━━\u001b[0m\u001b[37m\u001b[0m \u001b[1m1s\u001b[0m 2ms/step - loss: 6996.1099 - mae: 52.5181 - val_loss: 17443.4141 - val_mae: 24.6362\n",
      "Epoch 22/100\n",
      "\u001b[1m302/302\u001b[0m \u001b[32m━━━━━━━━━━━━━━━━━━━━\u001b[0m\u001b[37m\u001b[0m \u001b[1m1s\u001b[0m 2ms/step - loss: 6380.0024 - mae: 51.5554 - val_loss: 17931.3848 - val_mae: 28.2134\n",
      "Epoch 23/100\n",
      "\u001b[1m302/302\u001b[0m \u001b[32m━━━━━━━━━━━━━━━━━━━━\u001b[0m\u001b[37m\u001b[0m \u001b[1m1s\u001b[0m 3ms/step - loss: 6649.7266 - mae: 52.1685 - val_loss: 17885.8574 - val_mae: 20.9882\n",
      "Epoch 24/100\n",
      "\u001b[1m302/302\u001b[0m \u001b[32m━━━━━━━━━━━━━━━━━━━━\u001b[0m\u001b[37m\u001b[0m \u001b[1m1s\u001b[0m 2ms/step - loss: 7175.3481 - mae: 51.1988 - val_loss: 19832.1289 - val_mae: 16.3775\n",
      "Epoch 25/100\n",
      "\u001b[1m302/302\u001b[0m \u001b[32m━━━━━━━━━━━━━━━━━━━━\u001b[0m\u001b[37m\u001b[0m \u001b[1m1s\u001b[0m 2ms/step - loss: 6843.7891 - mae: 51.1519 - val_loss: 20026.5312 - val_mae: 15.9415\n",
      "Epoch 26/100\n",
      "\u001b[1m302/302\u001b[0m \u001b[32m━━━━━━━━━━━━━━━━━━━━\u001b[0m\u001b[37m\u001b[0m \u001b[1m1s\u001b[0m 3ms/step - loss: 9679.4775 - mae: 53.1004 - val_loss: 18551.9941 - val_mae: 18.8781\n",
      "Epoch 27/100\n",
      "\u001b[1m302/302\u001b[0m \u001b[32m━━━━━━━━━━━━━━━━━━━━\u001b[0m\u001b[37m\u001b[0m \u001b[1m1s\u001b[0m 2ms/step - loss: 7786.1953 - mae: 51.6820 - val_loss: 18971.6367 - val_mae: 17.1768\n",
      "Epoch 28/100\n",
      "\u001b[1m302/302\u001b[0m \u001b[32m━━━━━━━━━━━━━━━━━━━━\u001b[0m\u001b[37m\u001b[0m \u001b[1m1s\u001b[0m 2ms/step - loss: 7783.7212 - mae: 51.9207 - val_loss: 21598.9355 - val_mae: 24.3667\n",
      "Epoch 29/100\n",
      "\u001b[1m302/302\u001b[0m \u001b[32m━━━━━━━━━━━━━━━━━━━━\u001b[0m\u001b[37m\u001b[0m \u001b[1m1s\u001b[0m 2ms/step - loss: 7677.2617 - mae: 50.8510 - val_loss: 19696.2754 - val_mae: 21.5584\n",
      "Epoch 30/100\n",
      "\u001b[1m302/302\u001b[0m \u001b[32m━━━━━━━━━━━━━━━━━━━━\u001b[0m\u001b[37m\u001b[0m \u001b[1m1s\u001b[0m 2ms/step - loss: 9421.6133 - mae: 53.3444 - val_loss: 21944.6934 - val_mae: 19.1841\n",
      "Epoch 31/100\n",
      "\u001b[1m302/302\u001b[0m \u001b[32m━━━━━━━━━━━━━━━━━━━━\u001b[0m\u001b[37m\u001b[0m \u001b[1m1s\u001b[0m 2ms/step - loss: 10052.8838 - mae: 51.5574 - val_loss: 18398.9434 - val_mae: 20.6442\n",
      "Epoch 32/100\n",
      "\u001b[1m302/302\u001b[0m \u001b[32m━━━━━━━━━━━━━━━━━━━━\u001b[0m\u001b[37m\u001b[0m \u001b[1m1s\u001b[0m 2ms/step - loss: 7996.8462 - mae: 50.3858 - val_loss: 17609.5703 - val_mae: 15.2400\n",
      "Epoch 33/100\n",
      "\u001b[1m302/302\u001b[0m \u001b[32m━━━━━━━━━━━━━━━━━━━━\u001b[0m\u001b[37m\u001b[0m \u001b[1m1s\u001b[0m 2ms/step - loss: 6253.9458 - mae: 48.5835 - val_loss: 18641.0039 - val_mae: 23.1271\n",
      "Epoch 34/100\n",
      "\u001b[1m302/302\u001b[0m \u001b[32m━━━━━━━━━━━━━━━━━━━━\u001b[0m\u001b[37m\u001b[0m \u001b[1m1s\u001b[0m 2ms/step - loss: 9519.5947 - mae: 52.6574 - val_loss: 19221.4414 - val_mae: 22.1228\n",
      "Epoch 35/100\n",
      "\u001b[1m302/302\u001b[0m \u001b[32m━━━━━━━━━━━━━━━━━━━━\u001b[0m\u001b[37m\u001b[0m \u001b[1m1s\u001b[0m 2ms/step - loss: 8181.0571 - mae: 50.9498 - val_loss: 20967.7383 - val_mae: 18.2427\n",
      "Epoch 36/100\n",
      "\u001b[1m302/302\u001b[0m \u001b[32m━━━━━━━━━━━━━━━━━━━━\u001b[0m\u001b[37m\u001b[0m \u001b[1m1s\u001b[0m 2ms/step - loss: 6970.3320 - mae: 50.7403 - val_loss: 21131.2500 - val_mae: 19.6280\n",
      "Epoch 37/100\n",
      "\u001b[1m302/302\u001b[0m \u001b[32m━━━━━━━━━━━━━━━━━━━━\u001b[0m\u001b[37m\u001b[0m \u001b[1m1s\u001b[0m 2ms/step - loss: 7044.6177 - mae: 49.8810 - val_loss: 23358.3926 - val_mae: 20.8167\n",
      "Epoch 38/100\n",
      "\u001b[1m302/302\u001b[0m \u001b[32m━━━━━━━━━━━━━━━━━━━━\u001b[0m\u001b[37m\u001b[0m \u001b[1m1s\u001b[0m 2ms/step - loss: 8163.2329 - mae: 51.7496 - val_loss: 19696.4688 - val_mae: 15.8296\n",
      "Epoch 39/100\n",
      "\u001b[1m302/302\u001b[0m \u001b[32m━━━━━━━━━━━━━━━━━━━━\u001b[0m\u001b[37m\u001b[0m \u001b[1m1s\u001b[0m 2ms/step - loss: 7858.5771 - mae: 51.3251 - val_loss: 21409.0586 - val_mae: 32.8020\n",
      "Epoch 40/100\n",
      "\u001b[1m302/302\u001b[0m \u001b[32m━━━━━━━━━━━━━━━━━━━━\u001b[0m\u001b[37m\u001b[0m \u001b[1m1s\u001b[0m 2ms/step - loss: 10089.2129 - mae: 52.5811 - val_loss: 23037.6211 - val_mae: 19.1524\n",
      "Epoch 41/100\n",
      "\u001b[1m302/302\u001b[0m \u001b[32m━━━━━━━━━━━━━━━━━━━━\u001b[0m\u001b[37m\u001b[0m \u001b[1m1s\u001b[0m 2ms/step - loss: 8100.9858 - mae: 50.7347 - val_loss: 20563.8320 - val_mae: 24.8414\n",
      "Epoch 42/100\n",
      "\u001b[1m302/302\u001b[0m \u001b[32m━━━━━━━━━━━━━━━━━━━━\u001b[0m\u001b[37m\u001b[0m \u001b[1m1s\u001b[0m 2ms/step - loss: 9574.8516 - mae: 51.3901 - val_loss: 19241.3711 - val_mae: 33.8072\n",
      "Epoch 43/100\n",
      "\u001b[1m302/302\u001b[0m \u001b[32m━━━━━━━━━━━━━━━━━━━━\u001b[0m\u001b[37m\u001b[0m \u001b[1m1s\u001b[0m 2ms/step - loss: 8741.2598 - mae: 51.2409 - val_loss: 18712.3887 - val_mae: 22.1268\n",
      "Epoch 44/100\n",
      "\u001b[1m302/302\u001b[0m \u001b[32m━━━━━━━━━━━━━━━━━━━━\u001b[0m\u001b[37m\u001b[0m \u001b[1m1s\u001b[0m 2ms/step - loss: 8380.1045 - mae: 51.1753 - val_loss: 20160.5293 - val_mae: 16.6096\n",
      "Epoch 45/100\n",
      "\u001b[1m302/302\u001b[0m \u001b[32m━━━━━━━━━━━━━━━━━━━━\u001b[0m\u001b[37m\u001b[0m \u001b[1m1s\u001b[0m 3ms/step - loss: 8507.0039 - mae: 51.0862 - val_loss: 19373.3047 - val_mae: 22.0826\n",
      "Epoch 46/100\n",
      "\u001b[1m302/302\u001b[0m \u001b[32m━━━━━━━━━━━━━━━━━━━━\u001b[0m\u001b[37m\u001b[0m \u001b[1m1s\u001b[0m 2ms/step - loss: 8882.2256 - mae: 51.7529 - val_loss: 17766.1641 - val_mae: 20.2929\n",
      "Epoch 47/100\n",
      "\u001b[1m302/302\u001b[0m \u001b[32m━━━━━━━━━━━━━━━━━━━━\u001b[0m\u001b[37m\u001b[0m \u001b[1m1s\u001b[0m 3ms/step - loss: 8966.5908 - mae: 50.8582 - val_loss: 17488.8223 - val_mae: 26.8559\n",
      "Epoch 48/100\n",
      "\u001b[1m302/302\u001b[0m \u001b[32m━━━━━━━━━━━━━━━━━━━━\u001b[0m\u001b[37m\u001b[0m \u001b[1m1s\u001b[0m 3ms/step - loss: 9617.0361 - mae: 51.5123 - val_loss: 19252.8320 - val_mae: 15.2271\n",
      "Epoch 49/100\n",
      "\u001b[1m302/302\u001b[0m \u001b[32m━━━━━━━━━━━━━━━━━━━━\u001b[0m\u001b[37m\u001b[0m \u001b[1m1s\u001b[0m 2ms/step - loss: 8111.1606 - mae: 50.4135 - val_loss: 16026.6533 - val_mae: 14.3513\n",
      "Epoch 50/100\n",
      "\u001b[1m302/302\u001b[0m \u001b[32m━━━━━━━━━━━━━━━━━━━━\u001b[0m\u001b[37m\u001b[0m \u001b[1m1s\u001b[0m 2ms/step - loss: 8620.3984 - mae: 49.7924 - val_loss: 16829.6289 - val_mae: 21.9171\n",
      "Epoch 51/100\n"
     ]
    },
    {
     "name": "stdout",
     "output_type": "stream",
     "text": [
      "\u001b[1m302/302\u001b[0m \u001b[32m━━━━━━━━━━━━━━━━━━━━\u001b[0m\u001b[37m\u001b[0m \u001b[1m1s\u001b[0m 2ms/step - loss: 9622.1240 - mae: 50.0859 - val_loss: 16279.0938 - val_mae: 17.2460\n",
      "Epoch 52/100\n",
      "\u001b[1m302/302\u001b[0m \u001b[32m━━━━━━━━━━━━━━━━━━━━\u001b[0m\u001b[37m\u001b[0m \u001b[1m1s\u001b[0m 2ms/step - loss: 6852.6768 - mae: 49.7209 - val_loss: 14490.7178 - val_mae: 21.1398\n",
      "Epoch 53/100\n",
      "\u001b[1m302/302\u001b[0m \u001b[32m━━━━━━━━━━━━━━━━━━━━\u001b[0m\u001b[37m\u001b[0m \u001b[1m1s\u001b[0m 2ms/step - loss: 7106.9146 - mae: 50.1525 - val_loss: 16959.2891 - val_mae: 22.4614\n",
      "Epoch 54/100\n",
      "\u001b[1m302/302\u001b[0m \u001b[32m━━━━━━━━━━━━━━━━━━━━\u001b[0m\u001b[37m\u001b[0m \u001b[1m1s\u001b[0m 2ms/step - loss: 8080.7524 - mae: 49.2709 - val_loss: 14611.1484 - val_mae: 14.5106\n",
      "Epoch 55/100\n",
      "\u001b[1m302/302\u001b[0m \u001b[32m━━━━━━━━━━━━━━━━━━━━\u001b[0m\u001b[37m\u001b[0m \u001b[1m1s\u001b[0m 2ms/step - loss: 8621.6895 - mae: 49.9939 - val_loss: 14807.4961 - val_mae: 24.2526\n",
      "Epoch 56/100\n",
      "\u001b[1m302/302\u001b[0m \u001b[32m━━━━━━━━━━━━━━━━━━━━\u001b[0m\u001b[37m\u001b[0m \u001b[1m1s\u001b[0m 2ms/step - loss: 7389.4438 - mae: 50.3356 - val_loss: 16565.7891 - val_mae: 14.8687\n",
      "Epoch 57/100\n",
      "\u001b[1m302/302\u001b[0m \u001b[32m━━━━━━━━━━━━━━━━━━━━\u001b[0m\u001b[37m\u001b[0m \u001b[1m1s\u001b[0m 2ms/step - loss: 8987.3809 - mae: 49.5738 - val_loss: 14589.7285 - val_mae: 19.6649\n",
      "Epoch 58/100\n",
      "\u001b[1m302/302\u001b[0m \u001b[32m━━━━━━━━━━━━━━━━━━━━\u001b[0m\u001b[37m\u001b[0m \u001b[1m1s\u001b[0m 2ms/step - loss: 6977.3291 - mae: 50.1627 - val_loss: 16493.2070 - val_mae: 14.9775\n",
      "Epoch 59/100\n",
      "\u001b[1m302/302\u001b[0m \u001b[32m━━━━━━━━━━━━━━━━━━━━\u001b[0m\u001b[37m\u001b[0m \u001b[1m1s\u001b[0m 2ms/step - loss: 6775.6729 - mae: 47.9409 - val_loss: 15479.2666 - val_mae: 14.6868\n",
      "Epoch 60/100\n",
      "\u001b[1m302/302\u001b[0m \u001b[32m━━━━━━━━━━━━━━━━━━━━\u001b[0m\u001b[37m\u001b[0m \u001b[1m1s\u001b[0m 2ms/step - loss: 7164.4321 - mae: 49.2252 - val_loss: 14271.4307 - val_mae: 16.3089\n",
      "Epoch 61/100\n",
      "\u001b[1m302/302\u001b[0m \u001b[32m━━━━━━━━━━━━━━━━━━━━\u001b[0m\u001b[37m\u001b[0m \u001b[1m1s\u001b[0m 2ms/step - loss: 5713.0527 - mae: 49.0221 - val_loss: 11347.1172 - val_mae: 21.1133\n",
      "Epoch 62/100\n",
      "\u001b[1m302/302\u001b[0m \u001b[32m━━━━━━━━━━━━━━━━━━━━\u001b[0m\u001b[37m\u001b[0m \u001b[1m1s\u001b[0m 2ms/step - loss: 6656.6265 - mae: 50.4080 - val_loss: 12336.2266 - val_mae: 37.3078\n",
      "Epoch 63/100\n",
      "\u001b[1m302/302\u001b[0m \u001b[32m━━━━━━━━━━━━━━━━━━━━\u001b[0m\u001b[37m\u001b[0m \u001b[1m1s\u001b[0m 2ms/step - loss: 6390.5249 - mae: 48.6005 - val_loss: 11804.5830 - val_mae: 19.5989\n",
      "Epoch 64/100\n",
      "\u001b[1m302/302\u001b[0m \u001b[32m━━━━━━━━━━━━━━━━━━━━\u001b[0m\u001b[37m\u001b[0m \u001b[1m1s\u001b[0m 2ms/step - loss: 6522.2559 - mae: 49.4276 - val_loss: 14227.8193 - val_mae: 21.7866\n",
      "Epoch 65/100\n",
      "\u001b[1m302/302\u001b[0m \u001b[32m━━━━━━━━━━━━━━━━━━━━\u001b[0m\u001b[37m\u001b[0m \u001b[1m1s\u001b[0m 2ms/step - loss: 6034.2749 - mae: 49.8317 - val_loss: 15870.4766 - val_mae: 16.9082\n",
      "Epoch 66/100\n",
      "\u001b[1m302/302\u001b[0m \u001b[32m━━━━━━━━━━━━━━━━━━━━\u001b[0m\u001b[37m\u001b[0m \u001b[1m1s\u001b[0m 2ms/step - loss: 8450.2881 - mae: 50.5610 - val_loss: 15598.6064 - val_mae: 23.8567\n",
      "Epoch 67/100\n",
      "\u001b[1m302/302\u001b[0m \u001b[32m━━━━━━━━━━━━━━━━━━━━\u001b[0m\u001b[37m\u001b[0m \u001b[1m1s\u001b[0m 2ms/step - loss: 8844.5537 - mae: 49.7701 - val_loss: 14187.1875 - val_mae: 14.9554\n",
      "Epoch 68/100\n",
      "\u001b[1m302/302\u001b[0m \u001b[32m━━━━━━━━━━━━━━━━━━━━\u001b[0m\u001b[37m\u001b[0m \u001b[1m1s\u001b[0m 2ms/step - loss: 6123.4473 - mae: 48.3028 - val_loss: 15161.3076 - val_mae: 24.0421\n",
      "Epoch 69/100\n",
      "\u001b[1m302/302\u001b[0m \u001b[32m━━━━━━━━━━━━━━━━━━━━\u001b[0m\u001b[37m\u001b[0m \u001b[1m1s\u001b[0m 3ms/step - loss: 7003.4238 - mae: 49.0977 - val_loss: 12842.7910 - val_mae: 25.9596\n",
      "Epoch 70/100\n",
      "\u001b[1m302/302\u001b[0m \u001b[32m━━━━━━━━━━━━━━━━━━━━\u001b[0m\u001b[37m\u001b[0m \u001b[1m1s\u001b[0m 2ms/step - loss: 6373.9185 - mae: 48.2352 - val_loss: 13623.6855 - val_mae: 20.2161\n",
      "Epoch 71/100\n",
      "\u001b[1m302/302\u001b[0m \u001b[32m━━━━━━━━━━━━━━━━━━━━\u001b[0m\u001b[37m\u001b[0m \u001b[1m1s\u001b[0m 3ms/step - loss: 7429.0713 - mae: 48.8354 - val_loss: 11328.6738 - val_mae: 21.4912\n",
      "Epoch 72/100\n",
      "\u001b[1m302/302\u001b[0m \u001b[32m━━━━━━━━━━━━━━━━━━━━\u001b[0m\u001b[37m\u001b[0m \u001b[1m1s\u001b[0m 2ms/step - loss: 8119.8359 - mae: 50.8425 - val_loss: 10130.2686 - val_mae: 19.9226\n",
      "Epoch 73/100\n",
      "\u001b[1m302/302\u001b[0m \u001b[32m━━━━━━━━━━━━━━━━━━━━\u001b[0m\u001b[37m\u001b[0m \u001b[1m1s\u001b[0m 2ms/step - loss: 6105.3218 - mae: 48.5374 - val_loss: 10821.5518 - val_mae: 18.5552\n",
      "Epoch 74/100\n",
      "\u001b[1m302/302\u001b[0m \u001b[32m━━━━━━━━━━━━━━━━━━━━\u001b[0m\u001b[37m\u001b[0m \u001b[1m1s\u001b[0m 2ms/step - loss: 6156.6914 - mae: 48.6872 - val_loss: 10899.2686 - val_mae: 15.2511\n",
      "Epoch 75/100\n",
      "\u001b[1m302/302\u001b[0m \u001b[32m━━━━━━━━━━━━━━━━━━━━\u001b[0m\u001b[37m\u001b[0m \u001b[1m1s\u001b[0m 2ms/step - loss: 7647.1445 - mae: 48.5789 - val_loss: 10548.5186 - val_mae: 31.4742\n",
      "Epoch 76/100\n",
      "\u001b[1m302/302\u001b[0m \u001b[32m━━━━━━━━━━━━━━━━━━━━\u001b[0m\u001b[37m\u001b[0m \u001b[1m1s\u001b[0m 2ms/step - loss: 7357.3345 - mae: 49.1897 - val_loss: 11851.0830 - val_mae: 18.9294\n",
      "Epoch 77/100\n",
      "\u001b[1m302/302\u001b[0m \u001b[32m━━━━━━━━━━━━━━━━━━━━\u001b[0m\u001b[37m\u001b[0m \u001b[1m1s\u001b[0m 2ms/step - loss: 8137.4268 - mae: 49.6778 - val_loss: 10047.8535 - val_mae: 28.2558\n",
      "Epoch 78/100\n",
      "\u001b[1m302/302\u001b[0m \u001b[32m━━━━━━━━━━━━━━━━━━━━\u001b[0m\u001b[37m\u001b[0m \u001b[1m1s\u001b[0m 2ms/step - loss: 6584.2573 - mae: 47.7229 - val_loss: 11427.8379 - val_mae: 21.4233\n",
      "Epoch 79/100\n",
      "\u001b[1m302/302\u001b[0m \u001b[32m━━━━━━━━━━━━━━━━━━━━\u001b[0m\u001b[37m\u001b[0m \u001b[1m1s\u001b[0m 2ms/step - loss: 7503.3726 - mae: 50.2845 - val_loss: 11133.2432 - val_mae: 15.2993\n",
      "Epoch 80/100\n",
      "\u001b[1m302/302\u001b[0m \u001b[32m━━━━━━━━━━━━━━━━━━━━\u001b[0m\u001b[37m\u001b[0m \u001b[1m1s\u001b[0m 2ms/step - loss: 6136.7544 - mae: 49.1943 - val_loss: 12412.6641 - val_mae: 22.5071\n",
      "Epoch 81/100\n",
      "\u001b[1m302/302\u001b[0m \u001b[32m━━━━━━━━━━━━━━━━━━━━\u001b[0m\u001b[37m\u001b[0m \u001b[1m1s\u001b[0m 2ms/step - loss: 6664.0801 - mae: 48.6620 - val_loss: 11585.8086 - val_mae: 16.7686\n",
      "Epoch 82/100\n",
      "\u001b[1m302/302\u001b[0m \u001b[32m━━━━━━━━━━━━━━━━━━━━\u001b[0m\u001b[37m\u001b[0m \u001b[1m1s\u001b[0m 2ms/step - loss: 6230.4282 - mae: 49.5324 - val_loss: 16175.2920 - val_mae: 34.6900\n",
      "Epoch 83/100\n",
      "\u001b[1m302/302\u001b[0m \u001b[32m━━━━━━━━━━━━━━━━━━━━\u001b[0m\u001b[37m\u001b[0m \u001b[1m1s\u001b[0m 2ms/step - loss: 8239.5654 - mae: 49.2581 - val_loss: 13154.5205 - val_mae: 29.9769\n",
      "Epoch 84/100\n",
      "\u001b[1m302/302\u001b[0m \u001b[32m━━━━━━━━━━━━━━━━━━━━\u001b[0m\u001b[37m\u001b[0m \u001b[1m1s\u001b[0m 2ms/step - loss: 6010.5996 - mae: 48.2129 - val_loss: 13029.9385 - val_mae: 14.9988\n",
      "Epoch 85/100\n",
      "\u001b[1m302/302\u001b[0m \u001b[32m━━━━━━━━━━━━━━━━━━━━\u001b[0m\u001b[37m\u001b[0m \u001b[1m1s\u001b[0m 2ms/step - loss: 7545.0542 - mae: 50.3719 - val_loss: 11025.6816 - val_mae: 17.5467\n",
      "Epoch 86/100\n",
      "\u001b[1m302/302\u001b[0m \u001b[32m━━━━━━━━━━━━━━━━━━━━\u001b[0m\u001b[37m\u001b[0m \u001b[1m1s\u001b[0m 2ms/step - loss: 5509.3535 - mae: 47.7732 - val_loss: 12304.1846 - val_mae: 16.7286\n",
      "Epoch 87/100\n",
      "\u001b[1m302/302\u001b[0m \u001b[32m━━━━━━━━━━━━━━━━━━━━\u001b[0m\u001b[37m\u001b[0m \u001b[1m1s\u001b[0m 2ms/step - loss: 6594.7588 - mae: 49.9427 - val_loss: 10870.6289 - val_mae: 14.0766\n",
      "Epoch 88/100\n",
      "\u001b[1m302/302\u001b[0m \u001b[32m━━━━━━━━━━━━━━━━━━━━\u001b[0m\u001b[37m\u001b[0m \u001b[1m1s\u001b[0m 2ms/step - loss: 6575.0342 - mae: 48.4582 - val_loss: 11147.1895 - val_mae: 16.8412\n",
      "Epoch 89/100\n",
      "\u001b[1m302/302\u001b[0m \u001b[32m━━━━━━━━━━━━━━━━━━━━\u001b[0m\u001b[37m\u001b[0m \u001b[1m1s\u001b[0m 2ms/step - loss: 6831.7207 - mae: 47.9664 - val_loss: 12527.2852 - val_mae: 15.0234\n",
      "Epoch 90/100\n",
      "\u001b[1m302/302\u001b[0m \u001b[32m━━━━━━━━━━━━━━━━━━━━\u001b[0m\u001b[37m\u001b[0m \u001b[1m1s\u001b[0m 2ms/step - loss: 5639.9536 - mae: 48.5446 - val_loss: 11178.1680 - val_mae: 23.0720\n",
      "Epoch 91/100\n",
      "\u001b[1m302/302\u001b[0m \u001b[32m━━━━━━━━━━━━━━━━━━━━\u001b[0m\u001b[37m\u001b[0m \u001b[1m1s\u001b[0m 2ms/step - loss: 6488.4336 - mae: 49.2407 - val_loss: 11611.3086 - val_mae: 25.9382\n",
      "Epoch 92/100\n",
      "\u001b[1m302/302\u001b[0m \u001b[32m━━━━━━━━━━━━━━━━━━━━\u001b[0m\u001b[37m\u001b[0m \u001b[1m1s\u001b[0m 3ms/step - loss: 6890.7217 - mae: 48.1662 - val_loss: 9618.1035 - val_mae: 22.2910\n",
      "Epoch 93/100\n",
      "\u001b[1m302/302\u001b[0m \u001b[32m━━━━━━━━━━━━━━━━━━━━\u001b[0m\u001b[37m\u001b[0m \u001b[1m1s\u001b[0m 3ms/step - loss: 8047.9971 - mae: 49.5462 - val_loss: 10924.5840 - val_mae: 14.7022\n",
      "Epoch 94/100\n",
      "\u001b[1m302/302\u001b[0m \u001b[32m━━━━━━━━━━━━━━━━━━━━\u001b[0m\u001b[37m\u001b[0m \u001b[1m1s\u001b[0m 3ms/step - loss: 5866.8608 - mae: 48.8717 - val_loss: 10132.4375 - val_mae: 21.2988\n",
      "Epoch 95/100\n",
      "\u001b[1m302/302\u001b[0m \u001b[32m━━━━━━━━━━━━━━━━━━━━\u001b[0m\u001b[37m\u001b[0m \u001b[1m1s\u001b[0m 3ms/step - loss: 6693.3765 - mae: 47.2739 - val_loss: 10995.9199 - val_mae: 16.4162\n",
      "Epoch 96/100\n",
      "\u001b[1m302/302\u001b[0m \u001b[32m━━━━━━━━━━━━━━━━━━━━\u001b[0m\u001b[37m\u001b[0m \u001b[1m1s\u001b[0m 2ms/step - loss: 6504.2095 - mae: 46.8704 - val_loss: 11934.1455 - val_mae: 21.6714\n",
      "Epoch 97/100\n",
      "\u001b[1m302/302\u001b[0m \u001b[32m━━━━━━━━━━━━━━━━━━━━\u001b[0m\u001b[37m\u001b[0m \u001b[1m1s\u001b[0m 2ms/step - loss: 8092.5474 - mae: 49.4903 - val_loss: 10242.9189 - val_mae: 13.2005\n",
      "Epoch 98/100\n",
      "\u001b[1m302/302\u001b[0m \u001b[32m━━━━━━━━━━━━━━━━━━━━\u001b[0m\u001b[37m\u001b[0m \u001b[1m1s\u001b[0m 2ms/step - loss: 8318.5576 - mae: 49.5639 - val_loss: 10640.3584 - val_mae: 30.8089\n",
      "Epoch 99/100\n",
      "\u001b[1m302/302\u001b[0m \u001b[32m━━━━━━━━━━━━━━━━━━━━\u001b[0m\u001b[37m\u001b[0m \u001b[1m1s\u001b[0m 2ms/step - loss: 6670.3511 - mae: 49.3689 - val_loss: 11114.1953 - val_mae: 30.3729\n",
      "Epoch 100/100\n",
      "\u001b[1m302/302\u001b[0m \u001b[32m━━━━━━━━━━━━━━━━━━━━\u001b[0m\u001b[37m\u001b[0m \u001b[1m1s\u001b[0m 2ms/step - loss: 5817.9331 - mae: 48.8559 - val_loss: 9863.5781 - val_mae: 16.8186\n"
     ]
    }
   ],
   "source": [
    "history = model.fit(X_train, y_train, validation_split=0.2, epochs=100, batch_size=32, verbose=1)"
   ]
  },
  {
   "cell_type": "code",
   "execution_count": 34,
   "id": "e6ead5ed",
   "metadata": {},
   "outputs": [
    {
     "name": "stdout",
     "output_type": "stream",
     "text": [
      "\u001b[1m95/95\u001b[0m \u001b[32m━━━━━━━━━━━━━━━━━━━━\u001b[0m\u001b[37m\u001b[0m \u001b[1m0s\u001b[0m 1ms/step - loss: 7574.9580 - mae: 15.3221\n",
      "Test Mean Absolute Error: 16.49\n"
     ]
    }
   ],
   "source": [
    "# Evaluate the model on the test data\n",
    "test_loss, test_mae = model.evaluate(X_test, y_test, verbose=1)\n",
    "print(f'Test Mean Absolute Error: {test_mae:.2f}')"
   ]
  },
  {
   "cell_type": "code",
   "execution_count": 35,
   "id": "e6698371",
   "metadata": {},
   "outputs": [
    {
     "name": "stdout",
     "output_type": "stream",
     "text": [
      "\u001b[1m95/95\u001b[0m \u001b[32m━━━━━━━━━━━━━━━━━━━━\u001b[0m\u001b[37m\u001b[0m \u001b[1m0s\u001b[0m 2ms/step\n"
     ]
    }
   ],
   "source": [
    "# Make predictions on the test data\n",
    "y_pred = model.predict(X_test)"
   ]
  },
  {
   "cell_type": "code",
   "execution_count": 36,
   "id": "8c8e669f",
   "metadata": {},
   "outputs": [
    {
     "name": "stdout",
     "output_type": "stream",
     "text": [
      "Predicted RUL: 1033.27, Actual RUL: 1043.00\n",
      "Predicted RUL: 922.10, Actual RUL: 956.00\n",
      "Predicted RUL: 463.88, Actual RUL: 469.00\n",
      "Predicted RUL: 179.38, Actual RUL: 176.00\n",
      "Predicted RUL: 937.65, Actual RUL: 943.00\n",
      "Predicted RUL: 615.50, Actual RUL: 617.00\n",
      "Predicted RUL: 218.95, Actual RUL: 207.00\n",
      "Predicted RUL: 48.76, Actual RUL: 32.00\n",
      "Predicted RUL: 41.37, Actual RUL: 23.00\n",
      "Predicted RUL: 42.43, Actual RUL: 22.00\n"
     ]
    }
   ],
   "source": [
    "# Output first few predictions and actual RUL values for comparison\n",
    "for i in range(10):\n",
    "    print(f'Predicted RUL: {y_pred[i][0]:.2f}, Actual RUL: {y_test[i]:.2f}')"
   ]
  },
  {
   "cell_type": "code",
   "execution_count": 37,
   "id": "2d0354f2",
   "metadata": {},
   "outputs": [
    {
     "name": "stdout",
     "output_type": "stream",
     "text": [
      "Mean Squared Error (MSE): 8629.162704869706\n"
     ]
    }
   ],
   "source": [
    "# Calculate Mean Squared Error (MSE)\n",
    "mse = mean_squared_error(y_test, y_pred)\n",
    "print(f'Mean Squared Error (MSE): {mse}')"
   ]
  },
  {
   "cell_type": "code",
   "execution_count": 38,
   "id": "b937dd8a",
   "metadata": {},
   "outputs": [
    {
     "name": "stdout",
     "output_type": "stream",
     "text": [
      "Root Mean Squared Error (RMSE): 92.89328665124141\n"
     ]
    }
   ],
   "source": [
    "# Calculate Root Mean Squared Error (RMSE)\n",
    "rmse = np.sqrt(mse)\n",
    "print(f'Root Mean Squared Error (RMSE): {rmse}')"
   ]
  },
  {
   "cell_type": "code",
   "execution_count": 39,
   "id": "ab257fa5",
   "metadata": {},
   "outputs": [
    {
     "name": "stdout",
     "output_type": "stream",
     "text": [
      "Mean Absolute Error (MAE): 16.487200215058273\n"
     ]
    }
   ],
   "source": [
    "# Calculate Mean Absolute Error (MAE)\n",
    "mae = mean_absolute_error(y_test, y_pred)\n",
    "print(f'Mean Absolute Error (MAE): {mae}')"
   ]
  },
  {
   "cell_type": "code",
   "execution_count": 40,
   "id": "359d263e",
   "metadata": {},
   "outputs": [
    {
     "name": "stdout",
     "output_type": "stream",
     "text": [
      "R-squared: 0.9166953536763436\n"
     ]
    }
   ],
   "source": [
    "# Calculate R-squared (Coefficient of Determination)\n",
    "r2 = r2_score(y_test, y_pred)\n",
    "print(f'R-squared: {r2}')"
   ]
  },
  {
   "cell_type": "code",
   "execution_count": 41,
   "id": "72aebe62",
   "metadata": {},
   "outputs": [
    {
     "data": {
      "image/png": "[encoded data removed]",
      "text/plain": [
       "<Figure size 640x480 with 1 Axes>"
      ]
     },
     "metadata": {},
     "output_type": "display_data"
    }
   ],
   "source": [
    "# Plot training & validation loss values\n",
    "plt.plot(history.history['loss'])\n",
    "plt.plot(history.history['val_loss'])\n",
    "plt.title('Model Loss')\n",
    "plt.xlabel('Epoch')\n",
    "plt.ylabel('Loss')\n",
    "plt.legend(['Train', 'Validation'], loc='upper right')\n",
    "plt.show()"
   ]
  },
  {
   "cell_type": "code",
   "execution_count": 42,
   "id": "af97d2c1",
   "metadata": {},
   "outputs": [],
   "source": [
    "#Training with RMSprop"
   ]
  },
  {
   "cell_type": "code",
   "execution_count": 43,
   "id": "4d21f1a1",
   "metadata": {},
   "outputs": [],
   "source": [
    "#Reloading the Dataset\n",
    "file_path = r'C:\\Program Files\\Battery_RUL.csv'\n",
    "df = pd.read_csv(file_path)"
   ]
  },
  {
   "cell_type": "code",
   "execution_count": 44,
   "id": "b04abe9f",
   "metadata": {},
   "outputs": [],
   "source": [
    "X = df[features].values\n",
    "y = df[target].values"
   ]
  },
  {
   "cell_type": "code",
   "execution_count": 45,
   "id": "8629cd6c",
   "metadata": {},
   "outputs": [],
   "source": [
    "# Standardize the features\n",
    "X_train, X_test, y_train, y_test = train_test_split(X, y, test_size=0.2, random_state=42)\n",
    "scaler = StandardScaler()\n",
    "X_train = scaler.fit_transform(X_train)\n",
    "X_test = scaler.transform(X_test)"
   ]
  },
  {
   "cell_type": "code",
   "execution_count": 46,
   "id": "8bb65c47",
   "metadata": {},
   "outputs": [],
   "source": [
    "# Define the neural network model\n",
    "model = Sequential([\n",
    "    Input(shape=(X_train.shape[1],)),  # Input layer with the shape of the feature space\n",
    "    Dense(64, activation='relu'),  # Hidden layer with 64 neurons\n",
    "    Dropout(0.2),  # Dropout layer to prevent overfitting\n",
    "    Dense(128, activation='relu'),  # Hidden layer with 128 neurons\n",
    "    Dropout(0.2),  # Dropout layer\n",
    "    Dense(64, activation='relu'),  # Hidden layer with 64 neurons\n",
    "    Dropout(0.2),  # Dropout layer\n",
    "    Dense(1)  # Output layer for regression (no activation function)\n",
    "])"
   ]
  },
  {
   "cell_type": "code",
   "execution_count": 47,
   "id": "1f90dc1f",
   "metadata": {},
   "outputs": [],
   "source": [
    "optimizer_RMS = RMSprop(learning_rate=0.001)"
   ]
  },
  {
   "cell_type": "code",
   "execution_count": 48,
   "id": "4f0ce090",
   "metadata": {},
   "outputs": [],
   "source": [
    "model.compile(optimizer=optimizer_RMS, loss='mse', metrics=['mae'])"
   ]
  },
  {
   "cell_type": "code",
   "execution_count": 49,
   "id": "9a69328f",
   "metadata": {},
   "outputs": [
    {
     "name": "stdout",
     "output_type": "stream",
     "text": [
      "Epoch 1/100\n",
      "\u001b[1m302/302\u001b[0m \u001b[32m━━━━━━━━━━━━━━━━━━━━\u001b[0m\u001b[37m\u001b[0m \u001b[1m2s\u001b[0m 3ms/step - loss: 255309.8281 - mae: 403.1986 - val_loss: 23100.7500 - val_mae: 67.6420\n",
      "Epoch 2/100\n",
      "\u001b[1m302/302\u001b[0m \u001b[32m━━━━━━━━━━━━━━━━━━━━\u001b[0m\u001b[37m\u001b[0m \u001b[1m1s\u001b[0m 2ms/step - loss: 12753.3447 - mae: 78.3286 - val_loss: 13707.6689 - val_mae: 27.2640\n",
      "Epoch 3/100\n",
      "\u001b[1m302/302\u001b[0m \u001b[32m━━━━━━━━━━━━━━━━━━━━\u001b[0m\u001b[37m\u001b[0m \u001b[1m1s\u001b[0m 2ms/step - loss: 7868.6060 - mae: 61.4987 - val_loss: 11718.3877 - val_mae: 23.4951\n",
      "Epoch 4/100\n",
      "\u001b[1m302/302\u001b[0m \u001b[32m━━━━━━━━━━━━━━━━━━━━\u001b[0m\u001b[37m\u001b[0m \u001b[1m1s\u001b[0m 2ms/step - loss: 7452.1377 - mae: 59.9321 - val_loss: 9764.3945 - val_mae: 18.0459\n",
      "Epoch 5/100\n",
      "\u001b[1m302/302\u001b[0m \u001b[32m━━━━━━━━━━━━━━━━━━━━\u001b[0m\u001b[37m\u001b[0m \u001b[1m1s\u001b[0m 2ms/step - loss: 6745.9917 - mae: 56.8837 - val_loss: 8462.5439 - val_mae: 24.1550\n",
      "Epoch 6/100\n",
      "\u001b[1m302/302\u001b[0m \u001b[32m━━━━━━━━━━━━━━━━━━━━\u001b[0m\u001b[37m\u001b[0m \u001b[1m1s\u001b[0m 2ms/step - loss: 6638.4927 - mae: 56.0025 - val_loss: 9095.0166 - val_mae: 35.2992\n",
      "Epoch 7/100\n",
      "\u001b[1m302/302\u001b[0m \u001b[32m━━━━━━━━━━━━━━━━━━━━\u001b[0m\u001b[37m\u001b[0m \u001b[1m1s\u001b[0m 2ms/step - loss: 6238.0981 - mae: 54.9076 - val_loss: 6819.8467 - val_mae: 19.5102\n",
      "Epoch 8/100\n",
      "\u001b[1m302/302\u001b[0m \u001b[32m━━━━━━━━━━━━━━━━━━━━\u001b[0m\u001b[37m\u001b[0m \u001b[1m1s\u001b[0m 2ms/step - loss: 6621.1270 - mae: 55.8251 - val_loss: 6326.1973 - val_mae: 26.7655\n",
      "Epoch 9/100\n",
      "\u001b[1m302/302\u001b[0m \u001b[32m━━━━━━━━━━━━━━━━━━━━\u001b[0m\u001b[37m\u001b[0m \u001b[1m1s\u001b[0m 2ms/step - loss: 5976.1636 - mae: 53.5537 - val_loss: 6284.9819 - val_mae: 19.1828\n",
      "Epoch 10/100\n",
      "\u001b[1m302/302\u001b[0m \u001b[32m━━━━━━━━━━━━━━━━━━━━\u001b[0m\u001b[37m\u001b[0m \u001b[1m1s\u001b[0m 2ms/step - loss: 5838.0898 - mae: 53.6966 - val_loss: 4936.9629 - val_mae: 17.4498\n",
      "Epoch 11/100\n",
      "\u001b[1m302/302\u001b[0m \u001b[32m━━━━━━━━━━━━━━━━━━━━\u001b[0m\u001b[37m\u001b[0m \u001b[1m1s\u001b[0m 2ms/step - loss: 6143.2852 - mae: 54.5789 - val_loss: 5794.6138 - val_mae: 39.6508\n",
      "Epoch 12/100\n",
      "\u001b[1m302/302\u001b[0m \u001b[32m━━━━━━━━━━━━━━━━━━━━\u001b[0m\u001b[37m\u001b[0m \u001b[1m1s\u001b[0m 2ms/step - loss: 5809.0220 - mae: 53.7524 - val_loss: 4681.2646 - val_mae: 27.3539\n",
      "Epoch 13/100\n",
      "\u001b[1m302/302\u001b[0m \u001b[32m━━━━━━━━━━━━━━━━━━━━\u001b[0m\u001b[37m\u001b[0m \u001b[1m1s\u001b[0m 3ms/step - loss: 6118.0679 - mae: 54.7253 - val_loss: 5393.1641 - val_mae: 17.2075\n",
      "Epoch 14/100\n",
      "\u001b[1m302/302\u001b[0m \u001b[32m━━━━━━━━━━━━━━━━━━━━\u001b[0m\u001b[37m\u001b[0m \u001b[1m1s\u001b[0m 2ms/step - loss: 6015.2275 - mae: 52.4574 - val_loss: 3930.8884 - val_mae: 14.1913\n",
      "Epoch 15/100\n",
      "\u001b[1m302/302\u001b[0m \u001b[32m━━━━━━━━━━━━━━━━━━━━\u001b[0m\u001b[37m\u001b[0m \u001b[1m1s\u001b[0m 3ms/step - loss: 6091.1357 - mae: 54.3759 - val_loss: 4201.4771 - val_mae: 28.6569\n",
      "Epoch 16/100\n",
      "\u001b[1m302/302\u001b[0m \u001b[32m━━━━━━━━━━━━━━━━━━━━\u001b[0m\u001b[37m\u001b[0m \u001b[1m1s\u001b[0m 2ms/step - loss: 5895.3862 - mae: 53.3823 - val_loss: 3250.6973 - val_mae: 18.1593\n",
      "Epoch 17/100\n",
      "\u001b[1m302/302\u001b[0m \u001b[32m━━━━━━━━━━━━━━━━━━━━\u001b[0m\u001b[37m\u001b[0m \u001b[1m1s\u001b[0m 3ms/step - loss: 5412.4673 - mae: 51.6830 - val_loss: 3637.5928 - val_mae: 29.0899\n",
      "Epoch 18/100\n",
      "\u001b[1m302/302\u001b[0m \u001b[32m━━━━━━━━━━━━━━━━━━━━\u001b[0m\u001b[37m\u001b[0m \u001b[1m1s\u001b[0m 2ms/step - loss: 5797.7178 - mae: 52.5772 - val_loss: 2884.4592 - val_mae: 13.9107\n",
      "Epoch 19/100\n",
      "\u001b[1m302/302\u001b[0m \u001b[32m━━━━━━━━━━━━━━━━━━━━\u001b[0m\u001b[37m\u001b[0m \u001b[1m1s\u001b[0m 2ms/step - loss: 5527.1748 - mae: 52.5203 - val_loss: 2880.8184 - val_mae: 16.4349\n",
      "Epoch 20/100\n",
      "\u001b[1m302/302\u001b[0m \u001b[32m━━━━━━━━━━━━━━━━━━━━\u001b[0m\u001b[37m\u001b[0m \u001b[1m1s\u001b[0m 2ms/step - loss: 5576.9937 - mae: 52.6193 - val_loss: 3160.1323 - val_mae: 23.4595\n",
      "Epoch 21/100\n",
      "\u001b[1m302/302\u001b[0m \u001b[32m━━━━━━━━━━━━━━━━━━━━\u001b[0m\u001b[37m\u001b[0m \u001b[1m1s\u001b[0m 2ms/step - loss: 5594.8892 - mae: 52.3355 - val_loss: 2508.7930 - val_mae: 9.0738\n",
      "Epoch 22/100\n",
      "\u001b[1m302/302\u001b[0m \u001b[32m━━━━━━━━━━━━━━━━━━━━\u001b[0m\u001b[37m\u001b[0m \u001b[1m1s\u001b[0m 2ms/step - loss: 5342.5156 - mae: 51.4846 - val_loss: 2713.2632 - val_mae: 22.8087\n",
      "Epoch 23/100\n",
      "\u001b[1m302/302\u001b[0m \u001b[32m━━━━━━━━━━━━━━━━━━━━\u001b[0m\u001b[37m\u001b[0m \u001b[1m1s\u001b[0m 2ms/step - loss: 5438.1982 - mae: 51.4514 - val_loss: 3272.0684 - val_mae: 33.7999\n",
      "Epoch 24/100\n",
      "\u001b[1m302/302\u001b[0m \u001b[32m━━━━━━━━━━━━━━━━━━━━\u001b[0m\u001b[37m\u001b[0m \u001b[1m1s\u001b[0m 2ms/step - loss: 5701.1812 - mae: 52.5868 - val_loss: 2337.0107 - val_mae: 15.0918\n",
      "Epoch 25/100\n",
      "\u001b[1m302/302\u001b[0m \u001b[32m━━━━━━━━━━━━━━━━━━━━\u001b[0m\u001b[37m\u001b[0m \u001b[1m1s\u001b[0m 2ms/step - loss: 5639.1509 - mae: 51.6288 - val_loss: 2194.5574 - val_mae: 11.4588\n",
      "Epoch 26/100\n",
      "\u001b[1m302/302\u001b[0m \u001b[32m━━━━━━━━━━━━━━━━━━━━\u001b[0m\u001b[37m\u001b[0m \u001b[1m1s\u001b[0m 2ms/step - loss: 5540.6812 - mae: 52.6193 - val_loss: 1840.9362 - val_mae: 13.2201\n",
      "Epoch 27/100\n",
      "\u001b[1m302/302\u001b[0m \u001b[32m━━━━━━━━━━━━━━━━━━━━\u001b[0m\u001b[37m\u001b[0m \u001b[1m1s\u001b[0m 2ms/step - loss: 5227.5688 - mae: 51.2395 - val_loss: 1698.5862 - val_mae: 9.6433\n",
      "Epoch 28/100\n",
      "\u001b[1m302/302\u001b[0m \u001b[32m━━━━━━━━━━━━━━━━━━━━\u001b[0m\u001b[37m\u001b[0m \u001b[1m1s\u001b[0m 2ms/step - loss: 5418.2900 - mae: 51.6671 - val_loss: 2062.4529 - val_mae: 22.1496\n",
      "Epoch 29/100\n",
      "\u001b[1m302/302\u001b[0m \u001b[32m━━━━━━━━━━━━━━━━━━━━\u001b[0m\u001b[37m\u001b[0m \u001b[1m1s\u001b[0m 2ms/step - loss: 5560.8594 - mae: 52.0405 - val_loss: 1851.8964 - val_mae: 18.8355\n",
      "Epoch 30/100\n",
      "\u001b[1m302/302\u001b[0m \u001b[32m━━━━━━━━━━━━━━━━━━━━\u001b[0m\u001b[37m\u001b[0m \u001b[1m1s\u001b[0m 3ms/step - loss: 5350.8506 - mae: 51.3382 - val_loss: 1406.5846 - val_mae: 7.7493\n",
      "Epoch 31/100\n",
      "\u001b[1m302/302\u001b[0m \u001b[32m━━━━━━━━━━━━━━━━━━━━\u001b[0m\u001b[37m\u001b[0m \u001b[1m1s\u001b[0m 3ms/step - loss: 5208.0049 - mae: 51.4035 - val_loss: 1232.7396 - val_mae: 7.8427\n",
      "Epoch 32/100\n",
      "\u001b[1m302/302\u001b[0m \u001b[32m━━━━━━━━━━━━━━━━━━━━\u001b[0m\u001b[37m\u001b[0m \u001b[1m1s\u001b[0m 2ms/step - loss: 5102.9561 - mae: 50.7168 - val_loss: 1186.0928 - val_mae: 10.4530\n",
      "Epoch 33/100\n",
      "\u001b[1m302/302\u001b[0m \u001b[32m━━━━━━━━━━━━━━━━━━━━\u001b[0m\u001b[37m\u001b[0m \u001b[1m1s\u001b[0m 3ms/step - loss: 5237.2183 - mae: 50.9811 - val_loss: 1163.2042 - val_mae: 15.6305\n",
      "Epoch 34/100\n",
      "\u001b[1m302/302\u001b[0m \u001b[32m━━━━━━━━━━━━━━━━━━━━\u001b[0m\u001b[37m\u001b[0m \u001b[1m1s\u001b[0m 3ms/step - loss: 5043.6377 - mae: 50.3156 - val_loss: 1058.0695 - val_mae: 13.1832\n",
      "Epoch 35/100\n",
      "\u001b[1m302/302\u001b[0m \u001b[32m━━━━━━━━━━━━━━━━━━━━\u001b[0m\u001b[37m\u001b[0m \u001b[1m1s\u001b[0m 3ms/step - loss: 5399.8286 - mae: 51.6932 - val_loss: 941.0125 - val_mae: 9.6933\n",
      "Epoch 36/100\n",
      "\u001b[1m302/302\u001b[0m \u001b[32m━━━━━━━━━━━━━━━━━━━━\u001b[0m\u001b[37m\u001b[0m \u001b[1m1s\u001b[0m 3ms/step - loss: 5239.3457 - mae: 51.1758 - val_loss: 1394.8859 - val_mae: 25.2582\n",
      "Epoch 37/100\n",
      "\u001b[1m302/302\u001b[0m \u001b[32m━━━━━━━━━━━━━━━━━━━━\u001b[0m\u001b[37m\u001b[0m \u001b[1m1s\u001b[0m 3ms/step - loss: 4910.4678 - mae: 50.0304 - val_loss: 971.0445 - val_mae: 9.5206\n",
      "Epoch 38/100\n",
      "\u001b[1m302/302\u001b[0m \u001b[32m━━━━━━━━━━━━━━━━━━━━\u001b[0m\u001b[37m\u001b[0m \u001b[1m1s\u001b[0m 3ms/step - loss: 5123.6768 - mae: 50.3835 - val_loss: 953.7465 - val_mae: 12.7876\n",
      "Epoch 39/100\n",
      "\u001b[1m302/302\u001b[0m \u001b[32m━━━━━━━━━━━━━━━━━━━━\u001b[0m\u001b[37m\u001b[0m \u001b[1m1s\u001b[0m 2ms/step - loss: 5104.6914 - mae: 50.3738 - val_loss: 881.3480 - val_mae: 10.2197\n",
      "Epoch 40/100\n",
      "\u001b[1m302/302\u001b[0m \u001b[32m━━━━━━━━━━━━━━━━━━━━\u001b[0m\u001b[37m\u001b[0m \u001b[1m1s\u001b[0m 2ms/step - loss: 5119.3896 - mae: 50.5461 - val_loss: 689.9379 - val_mae: 8.8740\n",
      "Epoch 41/100\n",
      "\u001b[1m302/302\u001b[0m \u001b[32m━━━━━━━━━━━━━━━━━━━━\u001b[0m\u001b[37m\u001b[0m \u001b[1m1s\u001b[0m 2ms/step - loss: 5173.0791 - mae: 50.9557 - val_loss: 828.6075 - val_mae: 15.1625\n",
      "Epoch 42/100\n",
      "\u001b[1m302/302\u001b[0m \u001b[32m━━━━━━━━━━━━━━━━━━━━\u001b[0m\u001b[37m\u001b[0m \u001b[1m1s\u001b[0m 2ms/step - loss: 4895.0713 - mae: 49.3229 - val_loss: 534.9730 - val_mae: 7.3057\n",
      "Epoch 43/100\n",
      "\u001b[1m302/302\u001b[0m \u001b[32m━━━━━━━━━━━━━━━━━━━━\u001b[0m\u001b[37m\u001b[0m \u001b[1m1s\u001b[0m 2ms/step - loss: 5027.8545 - mae: 49.6476 - val_loss: 1130.9983 - val_mae: 23.1369\n",
      "Epoch 44/100\n",
      "\u001b[1m302/302\u001b[0m \u001b[32m━━━━━━━━━━━━━━━━━━━━\u001b[0m\u001b[37m\u001b[0m \u001b[1m1s\u001b[0m 2ms/step - loss: 5013.8755 - mae: 50.1657 - val_loss: 577.8964 - val_mae: 8.0563\n",
      "Epoch 45/100\n",
      "\u001b[1m302/302\u001b[0m \u001b[32m━━━━━━━━━━━━━━━━━━━━\u001b[0m\u001b[37m\u001b[0m \u001b[1m1s\u001b[0m 2ms/step - loss: 5022.2935 - mae: 49.9813 - val_loss: 605.0182 - val_mae: 7.5502\n",
      "Epoch 46/100\n",
      "\u001b[1m302/302\u001b[0m \u001b[32m━━━━━━━━━━━━━━━━━━━━\u001b[0m\u001b[37m\u001b[0m \u001b[1m1s\u001b[0m 2ms/step - loss: 4827.6670 - mae: 49.5265 - val_loss: 594.1590 - val_mae: 9.6881\n",
      "Epoch 47/100\n",
      "\u001b[1m302/302\u001b[0m \u001b[32m━━━━━━━━━━━━━━━━━━━━\u001b[0m\u001b[37m\u001b[0m \u001b[1m1s\u001b[0m 2ms/step - loss: 4754.5537 - mae: 49.1401 - val_loss: 1366.6464 - val_mae: 29.9649\n",
      "Epoch 48/100\n",
      "\u001b[1m302/302\u001b[0m \u001b[32m━━━━━━━━━━━━━━━━━━━━\u001b[0m\u001b[37m\u001b[0m \u001b[1m1s\u001b[0m 3ms/step - loss: 4828.4941 - mae: 49.1799 - val_loss: 627.3584 - val_mae: 15.5415\n",
      "Epoch 49/100\n",
      "\u001b[1m302/302\u001b[0m \u001b[32m━━━━━━━━━━━━━━━━━━━━\u001b[0m\u001b[37m\u001b[0m \u001b[1m1s\u001b[0m 3ms/step - loss: 4870.2583 - mae: 49.8384 - val_loss: 290.4989 - val_mae: 7.2286\n",
      "Epoch 50/100\n",
      "\u001b[1m302/302\u001b[0m \u001b[32m━━━━━━━━━━━━━━━━━━━━\u001b[0m\u001b[37m\u001b[0m \u001b[1m1s\u001b[0m 2ms/step - loss: 4983.7725 - mae: 49.9109 - val_loss: 429.9608 - val_mae: 11.7385\n",
      "Epoch 51/100\n"
     ]
    },
    {
     "name": "stdout",
     "output_type": "stream",
     "text": [
      "\u001b[1m302/302\u001b[0m \u001b[32m━━━━━━━━━━━━━━━━━━━━\u001b[0m\u001b[37m\u001b[0m \u001b[1m1s\u001b[0m 2ms/step - loss: 4967.8286 - mae: 50.1380 - val_loss: 864.5332 - val_mae: 21.2866\n",
      "Epoch 52/100\n",
      "\u001b[1m302/302\u001b[0m \u001b[32m━━━━━━━━━━━━━━━━━━━━\u001b[0m\u001b[37m\u001b[0m \u001b[1m1s\u001b[0m 2ms/step - loss: 4899.0640 - mae: 49.8008 - val_loss: 452.1490 - val_mae: 12.6048\n",
      "Epoch 53/100\n",
      "\u001b[1m302/302\u001b[0m \u001b[32m━━━━━━━━━━━━━━━━━━━━\u001b[0m\u001b[37m\u001b[0m \u001b[1m1s\u001b[0m 2ms/step - loss: 4924.3540 - mae: 49.8424 - val_loss: 379.1886 - val_mae: 9.5783\n",
      "Epoch 54/100\n",
      "\u001b[1m302/302\u001b[0m \u001b[32m━━━━━━━━━━━━━━━━━━━━\u001b[0m\u001b[37m\u001b[0m \u001b[1m1s\u001b[0m 3ms/step - loss: 4788.7988 - mae: 48.8502 - val_loss: 349.6727 - val_mae: 11.8115\n",
      "Epoch 55/100\n",
      "\u001b[1m302/302\u001b[0m \u001b[32m━━━━━━━━━━━━━━━━━━━━\u001b[0m\u001b[37m\u001b[0m \u001b[1m1s\u001b[0m 3ms/step - loss: 4702.1147 - mae: 48.2668 - val_loss: 379.5527 - val_mae: 8.8889\n",
      "Epoch 56/100\n",
      "\u001b[1m302/302\u001b[0m \u001b[32m━━━━━━━━━━━━━━━━━━━━\u001b[0m\u001b[37m\u001b[0m \u001b[1m1s\u001b[0m 3ms/step - loss: 4662.8667 - mae: 48.7032 - val_loss: 470.7047 - val_mae: 14.3449\n",
      "Epoch 57/100\n",
      "\u001b[1m302/302\u001b[0m \u001b[32m━━━━━━━━━━━━━━━━━━━━\u001b[0m\u001b[37m\u001b[0m \u001b[1m1s\u001b[0m 3ms/step - loss: 4712.0532 - mae: 48.4023 - val_loss: 322.6348 - val_mae: 8.2523\n",
      "Epoch 58/100\n",
      "\u001b[1m302/302\u001b[0m \u001b[32m━━━━━━━━━━━━━━━━━━━━\u001b[0m\u001b[37m\u001b[0m \u001b[1m1s\u001b[0m 3ms/step - loss: 4856.5220 - mae: 49.1304 - val_loss: 453.6750 - val_mae: 14.1967\n",
      "Epoch 59/100\n",
      "\u001b[1m302/302\u001b[0m \u001b[32m━━━━━━━━━━━━━━━━━━━━\u001b[0m\u001b[37m\u001b[0m \u001b[1m1s\u001b[0m 3ms/step - loss: 4577.1396 - mae: 48.3071 - val_loss: 349.9939 - val_mae: 12.0326\n",
      "Epoch 60/100\n",
      "\u001b[1m302/302\u001b[0m \u001b[32m━━━━━━━━━━━━━━━━━━━━\u001b[0m\u001b[37m\u001b[0m \u001b[1m1s\u001b[0m 3ms/step - loss: 4829.7788 - mae: 49.0125 - val_loss: 239.0562 - val_mae: 8.0407\n",
      "Epoch 61/100\n",
      "\u001b[1m302/302\u001b[0m \u001b[32m━━━━━━━━━━━━━━━━━━━━\u001b[0m\u001b[37m\u001b[0m \u001b[1m1s\u001b[0m 2ms/step - loss: 5002.0674 - mae: 48.8584 - val_loss: 548.3989 - val_mae: 13.3831\n",
      "Epoch 62/100\n",
      "\u001b[1m302/302\u001b[0m \u001b[32m━━━━━━━━━━━━━━━━━━━━\u001b[0m\u001b[37m\u001b[0m \u001b[1m1s\u001b[0m 3ms/step - loss: 4786.4434 - mae: 48.7486 - val_loss: 981.2126 - val_mae: 25.8214\n",
      "Epoch 63/100\n",
      "\u001b[1m302/302\u001b[0m \u001b[32m━━━━━━━━━━━━━━━━━━━━\u001b[0m\u001b[37m\u001b[0m \u001b[1m1s\u001b[0m 2ms/step - loss: 4609.4897 - mae: 48.3718 - val_loss: 370.3299 - val_mae: 9.9005\n",
      "Epoch 64/100\n",
      "\u001b[1m302/302\u001b[0m \u001b[32m━━━━━━━━━━━━━━━━━━━━\u001b[0m\u001b[37m\u001b[0m \u001b[1m1s\u001b[0m 3ms/step - loss: 4706.4624 - mae: 48.6461 - val_loss: 420.8246 - val_mae: 14.9204\n",
      "Epoch 65/100\n",
      "\u001b[1m302/302\u001b[0m \u001b[32m━━━━━━━━━━━━━━━━━━━━\u001b[0m\u001b[37m\u001b[0m \u001b[1m1s\u001b[0m 3ms/step - loss: 4681.6250 - mae: 49.0843 - val_loss: 336.7745 - val_mae: 11.0315\n",
      "Epoch 66/100\n",
      "\u001b[1m302/302\u001b[0m \u001b[32m━━━━━━━━━━━━━━━━━━━━\u001b[0m\u001b[37m\u001b[0m \u001b[1m1s\u001b[0m 2ms/step - loss: 4647.1606 - mae: 48.3853 - val_loss: 391.8503 - val_mae: 12.6771\n",
      "Epoch 67/100\n",
      "\u001b[1m302/302\u001b[0m \u001b[32m━━━━━━━━━━━━━━━━━━━━\u001b[0m\u001b[37m\u001b[0m \u001b[1m1s\u001b[0m 2ms/step - loss: 4548.5664 - mae: 47.4846 - val_loss: 922.1622 - val_mae: 25.2898\n",
      "Epoch 68/100\n",
      "\u001b[1m302/302\u001b[0m \u001b[32m━━━━━━━━━━━━━━━━━━━━\u001b[0m\u001b[37m\u001b[0m \u001b[1m1s\u001b[0m 2ms/step - loss: 4862.8516 - mae: 48.9296 - val_loss: 474.8341 - val_mae: 15.9974\n",
      "Epoch 69/100\n",
      "\u001b[1m302/302\u001b[0m \u001b[32m━━━━━━━━━━━━━━━━━━━━\u001b[0m\u001b[37m\u001b[0m \u001b[1m1s\u001b[0m 2ms/step - loss: 4666.9155 - mae: 49.1096 - val_loss: 528.2822 - val_mae: 13.5209\n",
      "Epoch 70/100\n",
      "\u001b[1m302/302\u001b[0m \u001b[32m━━━━━━━━━━━━━━━━━━━━\u001b[0m\u001b[37m\u001b[0m \u001b[1m1s\u001b[0m 2ms/step - loss: 4713.0864 - mae: 48.7872 - val_loss: 664.2722 - val_mae: 20.6706\n",
      "Epoch 71/100\n",
      "\u001b[1m302/302\u001b[0m \u001b[32m━━━━━━━━━━━━━━━━━━━━\u001b[0m\u001b[37m\u001b[0m \u001b[1m1s\u001b[0m 2ms/step - loss: 4733.1353 - mae: 48.5291 - val_loss: 648.4030 - val_mae: 19.9362\n",
      "Epoch 72/100\n",
      "\u001b[1m302/302\u001b[0m \u001b[32m━━━━━━━━━━━━━━━━━━━━\u001b[0m\u001b[37m\u001b[0m \u001b[1m1s\u001b[0m 2ms/step - loss: 4926.2910 - mae: 49.6576 - val_loss: 309.1555 - val_mae: 10.1548\n",
      "Epoch 73/100\n",
      "\u001b[1m302/302\u001b[0m \u001b[32m━━━━━━━━━━━━━━━━━━━━\u001b[0m\u001b[37m\u001b[0m \u001b[1m1s\u001b[0m 2ms/step - loss: 4387.8491 - mae: 47.3656 - val_loss: 550.5518 - val_mae: 16.9059\n",
      "Epoch 74/100\n",
      "\u001b[1m302/302\u001b[0m \u001b[32m━━━━━━━━━━━━━━━━━━━━\u001b[0m\u001b[37m\u001b[0m \u001b[1m1s\u001b[0m 3ms/step - loss: 4531.7075 - mae: 47.9900 - val_loss: 577.0519 - val_mae: 18.6665\n",
      "Epoch 75/100\n",
      "\u001b[1m302/302\u001b[0m \u001b[32m━━━━━━━━━━━━━━━━━━━━\u001b[0m\u001b[37m\u001b[0m \u001b[1m1s\u001b[0m 3ms/step - loss: 4484.9927 - mae: 47.0401 - val_loss: 443.1447 - val_mae: 12.9962\n",
      "Epoch 76/100\n",
      "\u001b[1m302/302\u001b[0m \u001b[32m━━━━━━━━━━━━━━━━━━━━\u001b[0m\u001b[37m\u001b[0m \u001b[1m1s\u001b[0m 3ms/step - loss: 4785.4663 - mae: 48.7253 - val_loss: 460.3562 - val_mae: 14.0601\n",
      "Epoch 77/100\n",
      "\u001b[1m302/302\u001b[0m \u001b[32m━━━━━━━━━━━━━━━━━━━━\u001b[0m\u001b[37m\u001b[0m \u001b[1m1s\u001b[0m 3ms/step - loss: 4483.3965 - mae: 47.3874 - val_loss: 1003.6276 - val_mae: 25.4934\n",
      "Epoch 78/100\n",
      "\u001b[1m302/302\u001b[0m \u001b[32m━━━━━━━━━━━━━━━━━━━━\u001b[0m\u001b[37m\u001b[0m \u001b[1m1s\u001b[0m 3ms/step - loss: 4544.5928 - mae: 47.8093 - val_loss: 865.6008 - val_mae: 23.8731\n",
      "Epoch 79/100\n",
      "\u001b[1m302/302\u001b[0m \u001b[32m━━━━━━━━━━━━━━━━━━━━\u001b[0m\u001b[37m\u001b[0m \u001b[1m1s\u001b[0m 2ms/step - loss: 4609.1323 - mae: 47.8667 - val_loss: 641.8565 - val_mae: 19.8256\n",
      "Epoch 80/100\n",
      "\u001b[1m302/302\u001b[0m \u001b[32m━━━━━━━━━━━━━━━━━━━━\u001b[0m\u001b[37m\u001b[0m \u001b[1m1s\u001b[0m 2ms/step - loss: 4602.4448 - mae: 47.8274 - val_loss: 465.5488 - val_mae: 14.5823\n",
      "Epoch 81/100\n",
      "\u001b[1m302/302\u001b[0m \u001b[32m━━━━━━━━━━━━━━━━━━━━\u001b[0m\u001b[37m\u001b[0m \u001b[1m1s\u001b[0m 2ms/step - loss: 4754.1387 - mae: 48.2478 - val_loss: 588.4452 - val_mae: 18.4779\n",
      "Epoch 82/100\n",
      "\u001b[1m302/302\u001b[0m \u001b[32m━━━━━━━━━━━━━━━━━━━━\u001b[0m\u001b[37m\u001b[0m \u001b[1m1s\u001b[0m 2ms/step - loss: 4495.5532 - mae: 47.4793 - val_loss: 497.2920 - val_mae: 15.6541\n",
      "Epoch 83/100\n",
      "\u001b[1m302/302\u001b[0m \u001b[32m━━━━━━━━━━━━━━━━━━━━\u001b[0m\u001b[37m\u001b[0m \u001b[1m1s\u001b[0m 2ms/step - loss: 4308.0415 - mae: 46.6595 - val_loss: 902.9717 - val_mae: 23.4327\n",
      "Epoch 84/100\n",
      "\u001b[1m302/302\u001b[0m \u001b[32m━━━━━━━━━━━━━━━━━━━━\u001b[0m\u001b[37m\u001b[0m \u001b[1m1s\u001b[0m 2ms/step - loss: 4844.6641 - mae: 48.6057 - val_loss: 523.1870 - val_mae: 14.0449\n",
      "Epoch 85/100\n",
      "\u001b[1m302/302\u001b[0m \u001b[32m━━━━━━━━━━━━━━━━━━━━\u001b[0m\u001b[37m\u001b[0m \u001b[1m1s\u001b[0m 2ms/step - loss: 4483.5063 - mae: 47.4181 - val_loss: 692.2541 - val_mae: 20.8600\n",
      "Epoch 86/100\n",
      "\u001b[1m302/302\u001b[0m \u001b[32m━━━━━━━━━━━━━━━━━━━━\u001b[0m\u001b[37m\u001b[0m \u001b[1m1s\u001b[0m 2ms/step - loss: 4328.0830 - mae: 47.0425 - val_loss: 666.2533 - val_mae: 19.7734\n",
      "Epoch 87/100\n",
      "\u001b[1m302/302\u001b[0m \u001b[32m━━━━━━━━━━━━━━━━━━━━\u001b[0m\u001b[37m\u001b[0m \u001b[1m1s\u001b[0m 2ms/step - loss: 4708.1729 - mae: 48.2317 - val_loss: 1277.7407 - val_mae: 28.4608\n",
      "Epoch 88/100\n",
      "\u001b[1m302/302\u001b[0m \u001b[32m━━━━━━━━━━━━━━━━━━━━\u001b[0m\u001b[37m\u001b[0m \u001b[1m1s\u001b[0m 2ms/step - loss: 4655.5527 - mae: 47.6932 - val_loss: 524.1686 - val_mae: 16.0653\n",
      "Epoch 89/100\n",
      "\u001b[1m302/302\u001b[0m \u001b[32m━━━━━━━━━━━━━━━━━━━━\u001b[0m\u001b[37m\u001b[0m \u001b[1m1s\u001b[0m 2ms/step - loss: 4308.9907 - mae: 46.9866 - val_loss: 508.5371 - val_mae: 15.7369\n",
      "Epoch 90/100\n",
      "\u001b[1m302/302\u001b[0m \u001b[32m━━━━━━━━━━━━━━━━━━━━\u001b[0m\u001b[37m\u001b[0m \u001b[1m1s\u001b[0m 2ms/step - loss: 4681.7266 - mae: 47.7717 - val_loss: 773.9976 - val_mae: 21.5894\n",
      "Epoch 91/100\n",
      "\u001b[1m302/302\u001b[0m \u001b[32m━━━━━━━━━━━━━━━━━━━━\u001b[0m\u001b[37m\u001b[0m \u001b[1m1s\u001b[0m 2ms/step - loss: 4778.8813 - mae: 48.2249 - val_loss: 686.6639 - val_mae: 20.4762\n",
      "Epoch 92/100\n",
      "\u001b[1m302/302\u001b[0m \u001b[32m━━━━━━━━━━━━━━━━━━━━\u001b[0m\u001b[37m\u001b[0m \u001b[1m1s\u001b[0m 2ms/step - loss: 4398.5215 - mae: 47.1310 - val_loss: 693.0669 - val_mae: 19.6417\n",
      "Epoch 93/100\n",
      "\u001b[1m302/302\u001b[0m \u001b[32m━━━━━━━━━━━━━━━━━━━━\u001b[0m\u001b[37m\u001b[0m \u001b[1m1s\u001b[0m 2ms/step - loss: 4529.6616 - mae: 47.6660 - val_loss: 560.0492 - val_mae: 13.7344\n",
      "Epoch 94/100\n",
      "\u001b[1m302/302\u001b[0m \u001b[32m━━━━━━━━━━━━━━━━━━━━\u001b[0m\u001b[37m\u001b[0m \u001b[1m1s\u001b[0m 2ms/step - loss: 4328.7183 - mae: 46.2611 - val_loss: 1388.1478 - val_mae: 30.3752\n",
      "Epoch 95/100\n",
      "\u001b[1m302/302\u001b[0m \u001b[32m━━━━━━━━━━━━━━━━━━━━\u001b[0m\u001b[37m\u001b[0m \u001b[1m1s\u001b[0m 2ms/step - loss: 4498.8447 - mae: 47.2956 - val_loss: 1565.8048 - val_mae: 33.3390\n",
      "Epoch 96/100\n",
      "\u001b[1m302/302\u001b[0m \u001b[32m━━━━━━━━━━━━━━━━━━━━\u001b[0m\u001b[37m\u001b[0m \u001b[1m1s\u001b[0m 3ms/step - loss: 4432.4707 - mae: 47.2808 - val_loss: 806.0883 - val_mae: 21.8573\n",
      "Epoch 97/100\n",
      "\u001b[1m302/302\u001b[0m \u001b[32m━━━━━━━━━━━━━━━━━━━━\u001b[0m\u001b[37m\u001b[0m \u001b[1m1s\u001b[0m 3ms/step - loss: 4709.7666 - mae: 48.5711 - val_loss: 791.1496 - val_mae: 21.0501\n",
      "Epoch 98/100\n",
      "\u001b[1m302/302\u001b[0m \u001b[32m━━━━━━━━━━━━━━━━━━━━\u001b[0m\u001b[37m\u001b[0m \u001b[1m1s\u001b[0m 3ms/step - loss: 4900.5049 - mae: 49.1895 - val_loss: 1002.7609 - val_mae: 24.0988\n",
      "Epoch 99/100\n",
      "\u001b[1m302/302\u001b[0m \u001b[32m━━━━━━━━━━━━━━━━━━━━\u001b[0m\u001b[37m\u001b[0m \u001b[1m1s\u001b[0m 3ms/step - loss: 4449.6162 - mae: 47.4549 - val_loss: 590.9073 - val_mae: 13.4874\n",
      "Epoch 100/100\n",
      "\u001b[1m302/302\u001b[0m \u001b[32m━━━━━━━━━━━━━━━━━━━━\u001b[0m\u001b[37m\u001b[0m \u001b[1m1s\u001b[0m 3ms/step - loss: 4608.8218 - mae: 47.7935 - val_loss: 988.8961 - val_mae: 24.4336\n"
     ]
    }
   ],
   "source": [
    "history = model.fit(X_train, y_train, validation_split=0.2, epochs=100, batch_size=32, verbose=1)"
   ]
  },
  {
   "cell_type": "code",
   "execution_count": 50,
   "id": "9fc219a1",
   "metadata": {},
   "outputs": [
    {
     "name": "stdout",
     "output_type": "stream",
     "text": [
      "\u001b[1m95/95\u001b[0m \u001b[32m━━━━━━━━━━━━━━━━━━━━\u001b[0m\u001b[37m\u001b[0m \u001b[1m0s\u001b[0m 1ms/step - loss: 927.1555 - mae: 23.9442\n",
      "Test Mean Absolute Error: 24.58\n"
     ]
    }
   ],
   "source": [
    "# Evaluate the model on the test data\n",
    "test_loss, test_mae = model.evaluate(X_test, y_test, verbose=1)\n",
    "print(f'Test Mean Absolute Error: {test_mae:.2f}')"
   ]
  },
  {
   "cell_type": "code",
   "execution_count": 51,
   "id": "248d9a9c",
   "metadata": {},
   "outputs": [
    {
     "name": "stdout",
     "output_type": "stream",
     "text": [
      "\u001b[1m95/95\u001b[0m \u001b[32m━━━━━━━━━━━━━━━━━━━━\u001b[0m\u001b[37m\u001b[0m \u001b[1m0s\u001b[0m 2ms/step\n"
     ]
    }
   ],
   "source": [
    "# Make predictions on the test data\n",
    "y_pred = model.predict(X_test)"
   ]
  },
  {
   "cell_type": "code",
   "execution_count": 52,
   "id": "431c4d3d",
   "metadata": {},
   "outputs": [
    {
     "name": "stdout",
     "output_type": "stream",
     "text": [
      "Predicted RUL: 1005.25, Actual RUL: 1043.00\n",
      "Predicted RUL: 899.07, Actual RUL: 956.00\n",
      "Predicted RUL: 473.26, Actual RUL: 469.00\n",
      "Predicted RUL: 195.95, Actual RUL: 176.00\n",
      "Predicted RUL: 914.26, Actual RUL: 943.00\n",
      "Predicted RUL: 606.85, Actual RUL: 617.00\n",
      "Predicted RUL: 223.12, Actual RUL: 207.00\n",
      "Predicted RUL: 100.43, Actual RUL: 32.00\n",
      "Predicted RUL: 95.34, Actual RUL: 23.00\n",
      "Predicted RUL: 97.19, Actual RUL: 22.00\n"
     ]
    }
   ],
   "source": [
    "# Output first few predictions and actual RUL values for comparison\n",
    "for i in range(10):\n",
    "    print(f'Predicted RUL: {y_pred[i][0]:.2f}, Actual RUL: {y_test[i]:.2f}')"
   ]
  },
  {
   "cell_type": "code",
   "execution_count": 53,
   "id": "d357e75e",
   "metadata": {},
   "outputs": [
    {
     "name": "stdout",
     "output_type": "stream",
     "text": [
      "Mean Squared Error (MSE): 1009.8482849097389\n"
     ]
    }
   ],
   "source": [
    "# Calculate Mean Squared Error (MSE)\n",
    "mse = mean_squared_error(y_test, y_pred)\n",
    "print(f'Mean Squared Error (MSE): {mse}')"
   ]
  },
  {
   "cell_type": "code",
   "execution_count": 54,
   "id": "99303499",
   "metadata": {},
   "outputs": [
    {
     "name": "stdout",
     "output_type": "stream",
     "text": [
      "Root Mean Squared Error (RMSE): 31.778110153212996\n"
     ]
    }
   ],
   "source": [
    "# Calculate Root Mean Squared Error (RMSE)\n",
    "rmse = np.sqrt(mse)\n",
    "print(f'Root Mean Squared Error (RMSE): {rmse}')"
   ]
  },
  {
   "cell_type": "code",
   "execution_count": 55,
   "id": "e696b840",
   "metadata": {},
   "outputs": [
    {
     "name": "stdout",
     "output_type": "stream",
     "text": [
      "Mean Absolute Error (MAE): 24.579839160424154\n"
     ]
    }
   ],
   "source": [
    "# Calculate Mean Absolute Error (MAE)\n",
    "mae = mean_absolute_error(y_test, y_pred)\n",
    "print(f'Mean Absolute Error (MAE): {mae}')"
   ]
  },
  {
   "cell_type": "code",
   "execution_count": 56,
   "id": "b22ec040",
   "metadata": {},
   "outputs": [
    {
     "name": "stdout",
     "output_type": "stream",
     "text": [
      "R-squared: 0.9902510756730218\n"
     ]
    }
   ],
   "source": [
    "# Calculate R-squared (Coefficient of Determination)\n",
    "r2 = r2_score(y_test, y_pred)\n",
    "print(f'R-squared: {r2}')"
   ]
  },
  {
   "cell_type": "code",
   "execution_count": 57,
   "id": "43e97186",
   "metadata": {},
   "outputs": [
    {
     "data": {
      "image/png": "[encoded data removed]",
      "text/plain": [
       "<Figure size 640x480 with 1 Axes>"
      ]
     },
     "metadata": {},
     "output_type": "display_data"
    }
   ],
   "source": [
    "# Plot training & validation loss values\n",
    "plt.plot(history.history['loss'])\n",
    "plt.plot(history.history['val_loss'])\n",
    "plt.title('Model Loss')\n",
    "plt.xlabel('Epoch')\n",
    "plt.ylabel('Loss')\n",
    "plt.legend(['Train', 'Validation'], loc='upper right')\n",
    "plt.show()"
   ]
  },
  {
   "cell_type": "code",
   "execution_count": 58,
   "id": "9d557618",
   "metadata": {},
   "outputs": [],
   "source": [
    "#Trainig with Adammax"
   ]
  },
  {
   "cell_type": "code",
   "execution_count": 59,
   "id": "d885e15b",
   "metadata": {},
   "outputs": [],
   "source": [
    "#Reloading the Dataset\n",
    "file_path = r'C:\\Program Files\\Battery_RUL.csv'\n",
    "df = pd.read_csv(file_path)"
   ]
  },
  {
   "cell_type": "code",
   "execution_count": 60,
   "id": "dfb64a30",
   "metadata": {},
   "outputs": [],
   "source": [
    "X = df[features].values\n",
    "y = df[target].values"
   ]
  },
  {
   "cell_type": "code",
   "execution_count": 61,
   "id": "e81ffd8a",
   "metadata": {},
   "outputs": [],
   "source": [
    "# Standardize the features\n",
    "X_train, X_test, y_train, y_test = train_test_split(X, y, test_size=0.2, random_state=42)\n",
    "scaler = StandardScaler()\n",
    "X_train = scaler.fit_transform(X_train)\n",
    "X_test = scaler.transform(X_test)"
   ]
  },
  {
   "cell_type": "code",
   "execution_count": 62,
   "id": "18c114d4",
   "metadata": {},
   "outputs": [],
   "source": [
    "# Define the neural network model\n",
    "model = Sequential([\n",
    "    Input(shape=(X_train.shape[1],)),  # Input layer with the shape of the feature space\n",
    "    Dense(64, activation='relu'),  # Hidden layer with 64 neurons\n",
    "    Dropout(0.2),  # Dropout layer to prevent overfitting\n",
    "    Dense(128, activation='relu'),  # Hidden layer with 128 neurons\n",
    "    Dropout(0.2),  # Dropout layer\n",
    "    Dense(64, activation='relu'),  # Hidden layer with 64 neurons\n",
    "    Dropout(0.2),  # Dropout layer\n",
    "    Dense(1)  # Output layer for regression (no activation function)\n",
    "])"
   ]
  },
  {
   "cell_type": "code",
   "execution_count": 63,
   "id": "16f9f45a",
   "metadata": {},
   "outputs": [],
   "source": [
    "optimizer_Adamax = Adamax(learning_rate=0.001)"
   ]
  },
  {
   "cell_type": "code",
   "execution_count": 64,
   "id": "dcb11cdf",
   "metadata": {},
   "outputs": [],
   "source": [
    "model.compile(optimizer=optimizer_Adamax, loss='mse', metrics=['mae'])"
   ]
  },
  {
   "cell_type": "code",
   "execution_count": 65,
   "id": "32acff51",
   "metadata": {},
   "outputs": [
    {
     "name": "stdout",
     "output_type": "stream",
     "text": [
      "Epoch 1/100\n",
      "\u001b[1m302/302\u001b[0m \u001b[32m━━━━━━━━━━━━━━━━━━━━\u001b[0m\u001b[37m\u001b[0m \u001b[1m2s\u001b[0m 3ms/step - loss: 389500.5312 - mae: 536.9056 - val_loss: 110927.9531 - val_mae: 281.8105\n",
      "Epoch 2/100\n",
      "\u001b[1m302/302\u001b[0m \u001b[32m━━━━━━━━━━━━━━━━━━━━\u001b[0m\u001b[37m\u001b[0m \u001b[1m1s\u001b[0m 2ms/step - loss: 64564.2617 - mae: 199.1330 - val_loss: 44229.6836 - val_mae: 120.4412\n",
      "Epoch 3/100\n",
      "\u001b[1m302/302\u001b[0m \u001b[32m━━━━━━━━━━━━━━━━━━━━\u001b[0m\u001b[37m\u001b[0m \u001b[1m1s\u001b[0m 2ms/step - loss: 27714.4688 - mae: 121.8374 - val_loss: 26282.5059 - val_mae: 83.1413\n",
      "Epoch 4/100\n",
      "\u001b[1m302/302\u001b[0m \u001b[32m━━━━━━━━━━━━━━━━━━━━\u001b[0m\u001b[37m\u001b[0m \u001b[1m1s\u001b[0m 2ms/step - loss: 18609.5195 - mae: 97.1892 - val_loss: 17727.2715 - val_mae: 59.0583\n",
      "Epoch 5/100\n",
      "\u001b[1m302/302\u001b[0m \u001b[32m━━━━━━━━━━━━━━━━━━━━\u001b[0m\u001b[37m\u001b[0m \u001b[1m1s\u001b[0m 2ms/step - loss: 14866.5127 - mae: 85.3940 - val_loss: 13310.2393 - val_mae: 42.7202\n",
      "Epoch 6/100\n",
      "\u001b[1m302/302\u001b[0m \u001b[32m━━━━━━━━━━━━━━━━━━━━\u001b[0m\u001b[37m\u001b[0m \u001b[1m1s\u001b[0m 3ms/step - loss: 10963.1289 - mae: 75.2163 - val_loss: 10939.1885 - val_mae: 34.0579\n",
      "Epoch 7/100\n",
      "\u001b[1m302/302\u001b[0m \u001b[32m━━━━━━━━━━━━━━━━━━━━\u001b[0m\u001b[37m\u001b[0m \u001b[1m1s\u001b[0m 3ms/step - loss: 10339.3682 - mae: 71.3923 - val_loss: 9514.4336 - val_mae: 27.5295\n",
      "Epoch 8/100\n",
      "\u001b[1m302/302\u001b[0m \u001b[32m━━━━━━━━━━━━━━━━━━━━\u001b[0m\u001b[37m\u001b[0m \u001b[1m1s\u001b[0m 3ms/step - loss: 10047.3984 - mae: 70.6030 - val_loss: 8288.5527 - val_mae: 23.4760\n",
      "Epoch 9/100\n",
      "\u001b[1m302/302\u001b[0m \u001b[32m━━━━━━━━━━━━━━━━━━━━\u001b[0m\u001b[37m\u001b[0m \u001b[1m1s\u001b[0m 3ms/step - loss: 9174.7812 - mae: 66.5336 - val_loss: 7563.5488 - val_mae: 23.0040\n",
      "Epoch 10/100\n",
      "\u001b[1m302/302\u001b[0m \u001b[32m━━━━━━━━━━━━━━━━━━━━\u001b[0m\u001b[37m\u001b[0m \u001b[1m1s\u001b[0m 3ms/step - loss: 8963.6777 - mae: 66.2003 - val_loss: 7051.7090 - val_mae: 21.7488\n",
      "Epoch 11/100\n",
      "\u001b[1m302/302\u001b[0m \u001b[32m━━━━━━━━━━━━━━━━━━━━\u001b[0m\u001b[37m\u001b[0m \u001b[1m1s\u001b[0m 2ms/step - loss: 8606.4150 - mae: 65.3938 - val_loss: 6526.1060 - val_mae: 18.1970\n",
      "Epoch 12/100\n",
      "\u001b[1m302/302\u001b[0m \u001b[32m━━━━━━━━━━━━━━━━━━━━\u001b[0m\u001b[37m\u001b[0m \u001b[1m1s\u001b[0m 2ms/step - loss: 8587.5586 - mae: 64.1434 - val_loss: 6141.5396 - val_mae: 22.6017\n",
      "Epoch 13/100\n",
      "\u001b[1m302/302\u001b[0m \u001b[32m━━━━━━━━━━━━━━━━━━━━\u001b[0m\u001b[37m\u001b[0m \u001b[1m1s\u001b[0m 2ms/step - loss: 8464.6523 - mae: 63.8755 - val_loss: 5794.7417 - val_mae: 17.6985\n",
      "Epoch 14/100\n",
      "\u001b[1m302/302\u001b[0m \u001b[32m━━━━━━━━━━━━━━━━━━━━\u001b[0m\u001b[37m\u001b[0m \u001b[1m1s\u001b[0m 2ms/step - loss: 8236.4189 - mae: 62.7150 - val_loss: 5494.8735 - val_mae: 21.2803\n",
      "Epoch 15/100\n",
      "\u001b[1m302/302\u001b[0m \u001b[32m━━━━━━━━━━━━━━━━━━━━\u001b[0m\u001b[37m\u001b[0m \u001b[1m1s\u001b[0m 2ms/step - loss: 7981.4785 - mae: 62.3282 - val_loss: 5174.3560 - val_mae: 18.4404\n",
      "Epoch 16/100\n",
      "\u001b[1m302/302\u001b[0m \u001b[32m━━━━━━━━━━━━━━━━━━━━\u001b[0m\u001b[37m\u001b[0m \u001b[1m1s\u001b[0m 2ms/step - loss: 7488.8413 - mae: 60.7850 - val_loss: 4881.6064 - val_mae: 14.1509\n",
      "Epoch 17/100\n",
      "\u001b[1m302/302\u001b[0m \u001b[32m━━━━━━━━━━━━━━━━━━━━\u001b[0m\u001b[37m\u001b[0m \u001b[1m1s\u001b[0m 2ms/step - loss: 7672.2148 - mae: 60.8250 - val_loss: 4746.9351 - val_mae: 14.0158\n",
      "Epoch 18/100\n",
      "\u001b[1m302/302\u001b[0m \u001b[32m━━━━━━━━━━━━━━━━━━━━\u001b[0m\u001b[37m\u001b[0m \u001b[1m1s\u001b[0m 2ms/step - loss: 8224.1953 - mae: 62.6413 - val_loss: 4509.2627 - val_mae: 18.5012\n",
      "Epoch 19/100\n",
      "\u001b[1m302/302\u001b[0m \u001b[32m━━━━━━━━━━━━━━━━━━━━\u001b[0m\u001b[37m\u001b[0m \u001b[1m1s\u001b[0m 2ms/step - loss: 7646.1104 - mae: 61.3027 - val_loss: 4594.3096 - val_mae: 26.5980\n",
      "Epoch 20/100\n",
      "\u001b[1m302/302\u001b[0m \u001b[32m━━━━━━━━━━━━━━━━━━━━\u001b[0m\u001b[37m\u001b[0m \u001b[1m1s\u001b[0m 2ms/step - loss: 7099.4014 - mae: 59.3724 - val_loss: 4147.2549 - val_mae: 15.3395\n",
      "Epoch 21/100\n",
      "\u001b[1m302/302\u001b[0m \u001b[32m━━━━━━━━━━━━━━━━━━━━\u001b[0m\u001b[37m\u001b[0m \u001b[1m1s\u001b[0m 3ms/step - loss: 6968.9468 - mae: 58.5378 - val_loss: 4006.6687 - val_mae: 18.2530\n",
      "Epoch 22/100\n",
      "\u001b[1m302/302\u001b[0m \u001b[32m━━━━━━━━━━━━━━━━━━━━\u001b[0m\u001b[37m\u001b[0m \u001b[1m1s\u001b[0m 2ms/step - loss: 7008.9399 - mae: 59.5803 - val_loss: 3928.8701 - val_mae: 11.6627\n",
      "Epoch 23/100\n",
      "\u001b[1m302/302\u001b[0m \u001b[32m━━━━━━━━━━━━━━━━━━━━\u001b[0m\u001b[37m\u001b[0m \u001b[1m1s\u001b[0m 2ms/step - loss: 6926.5752 - mae: 58.6331 - val_loss: 3770.1270 - val_mae: 15.6741\n",
      "Epoch 24/100\n",
      "\u001b[1m302/302\u001b[0m \u001b[32m━━━━━━━━━━━━━━━━━━━━\u001b[0m\u001b[37m\u001b[0m \u001b[1m1s\u001b[0m 2ms/step - loss: 6437.3101 - mae: 56.8495 - val_loss: 3564.3340 - val_mae: 14.1112\n",
      "Epoch 25/100\n",
      "\u001b[1m302/302\u001b[0m \u001b[32m━━━━━━━━━━━━━━━━━━━━\u001b[0m\u001b[37m\u001b[0m \u001b[1m1s\u001b[0m 2ms/step - loss: 6900.0361 - mae: 58.0165 - val_loss: 3462.8154 - val_mae: 15.1374\n",
      "Epoch 26/100\n",
      "\u001b[1m302/302\u001b[0m \u001b[32m━━━━━━━━━━━━━━━━━━━━\u001b[0m\u001b[37m\u001b[0m \u001b[1m1s\u001b[0m 3ms/step - loss: 6678.6685 - mae: 56.8128 - val_loss: 3315.1260 - val_mae: 14.9171\n",
      "Epoch 27/100\n",
      "\u001b[1m302/302\u001b[0m \u001b[32m━━━━━━━━━━━━━━━━━━━━\u001b[0m\u001b[37m\u001b[0m \u001b[1m1s\u001b[0m 3ms/step - loss: 7160.1060 - mae: 58.4406 - val_loss: 3157.0757 - val_mae: 14.4137\n",
      "Epoch 28/100\n",
      "\u001b[1m302/302\u001b[0m \u001b[32m━━━━━━━━━━━━━━━━━━━━\u001b[0m\u001b[37m\u001b[0m \u001b[1m1s\u001b[0m 3ms/step - loss: 6252.6328 - mae: 56.5043 - val_loss: 2929.1252 - val_mae: 10.2108\n",
      "Epoch 29/100\n",
      "\u001b[1m302/302\u001b[0m \u001b[32m━━━━━━━━━━━━━━━━━━━━\u001b[0m\u001b[37m\u001b[0m \u001b[1m1s\u001b[0m 3ms/step - loss: 6325.3228 - mae: 55.9334 - val_loss: 2840.2651 - val_mae: 11.3870\n",
      "Epoch 30/100\n",
      "\u001b[1m302/302\u001b[0m \u001b[32m━━━━━━━━━━━━━━━━━━━━\u001b[0m\u001b[37m\u001b[0m \u001b[1m1s\u001b[0m 3ms/step - loss: 6457.6948 - mae: 56.7023 - val_loss: 2725.8552 - val_mae: 14.6424\n",
      "Epoch 31/100\n",
      "\u001b[1m302/302\u001b[0m \u001b[32m━━━━━━━━━━━━━━━━━━━━\u001b[0m\u001b[37m\u001b[0m \u001b[1m1s\u001b[0m 2ms/step - loss: 6179.7583 - mae: 54.8942 - val_loss: 2594.6836 - val_mae: 9.4881\n",
      "Epoch 32/100\n",
      "\u001b[1m302/302\u001b[0m \u001b[32m━━━━━━━━━━━━━━━━━━━━\u001b[0m\u001b[37m\u001b[0m \u001b[1m1s\u001b[0m 3ms/step - loss: 6391.3267 - mae: 56.4839 - val_loss: 2436.9758 - val_mae: 9.1417\n",
      "Epoch 33/100\n",
      "\u001b[1m302/302\u001b[0m \u001b[32m━━━━━━━━━━━━━━━━━━━━\u001b[0m\u001b[37m\u001b[0m \u001b[1m1s\u001b[0m 3ms/step - loss: 6160.0029 - mae: 55.7431 - val_loss: 2394.4343 - val_mae: 9.6970\n",
      "Epoch 34/100\n",
      "\u001b[1m302/302\u001b[0m \u001b[32m━━━━━━━━━━━━━━━━━━━━\u001b[0m\u001b[37m\u001b[0m \u001b[1m1s\u001b[0m 2ms/step - loss: 6011.0864 - mae: 54.9681 - val_loss: 2325.7273 - val_mae: 11.5904\n",
      "Epoch 35/100\n",
      "\u001b[1m302/302\u001b[0m \u001b[32m━━━━━━━━━━━━━━━━━━━━\u001b[0m\u001b[37m\u001b[0m \u001b[1m1s\u001b[0m 2ms/step - loss: 6300.9810 - mae: 55.8881 - val_loss: 2307.8645 - val_mae: 15.5488\n",
      "Epoch 36/100\n",
      "\u001b[1m302/302\u001b[0m \u001b[32m━━━━━━━━━━━━━━━━━━━━\u001b[0m\u001b[37m\u001b[0m \u001b[1m1s\u001b[0m 2ms/step - loss: 6085.6836 - mae: 55.1786 - val_loss: 2504.7847 - val_mae: 20.0732\n",
      "Epoch 37/100\n",
      "\u001b[1m302/302\u001b[0m \u001b[32m━━━━━━━━━━━━━━━━━━━━\u001b[0m\u001b[37m\u001b[0m \u001b[1m1s\u001b[0m 2ms/step - loss: 6310.9233 - mae: 56.0667 - val_loss: 2157.1807 - val_mae: 12.4565\n",
      "Epoch 38/100\n",
      "\u001b[1m302/302\u001b[0m \u001b[32m━━━━━━━━━━━━━━━━━━━━\u001b[0m\u001b[37m\u001b[0m \u001b[1m1s\u001b[0m 2ms/step - loss: 6132.2007 - mae: 55.5829 - val_loss: 2102.1462 - val_mae: 9.0049\n",
      "Epoch 39/100\n",
      "\u001b[1m302/302\u001b[0m \u001b[32m━━━━━━━━━━━━━━━━━━━━\u001b[0m\u001b[37m\u001b[0m \u001b[1m1s\u001b[0m 2ms/step - loss: 5635.0044 - mae: 52.6621 - val_loss: 1975.0386 - val_mae: 11.0534\n",
      "Epoch 40/100\n",
      "\u001b[1m302/302\u001b[0m \u001b[32m━━━━━━━━━━━━━━━━━━━━\u001b[0m\u001b[37m\u001b[0m \u001b[1m1s\u001b[0m 3ms/step - loss: 5835.0820 - mae: 54.2456 - val_loss: 1911.1000 - val_mae: 10.5348\n",
      "Epoch 41/100\n",
      "\u001b[1m302/302\u001b[0m \u001b[32m━━━━━━━━━━━━━━━━━━━━\u001b[0m\u001b[37m\u001b[0m \u001b[1m1s\u001b[0m 2ms/step - loss: 5990.3271 - mae: 54.2518 - val_loss: 2009.7573 - val_mae: 17.5434\n",
      "Epoch 42/100\n",
      "\u001b[1m302/302\u001b[0m \u001b[32m━━━━━━━━━━━━━━━━━━━━\u001b[0m\u001b[37m\u001b[0m \u001b[1m1s\u001b[0m 3ms/step - loss: 5944.1616 - mae: 54.7196 - val_loss: 1776.8812 - val_mae: 13.8209\n",
      "Epoch 43/100\n",
      "\u001b[1m302/302\u001b[0m \u001b[32m━━━━━━━━━━━━━━━━━━━━\u001b[0m\u001b[37m\u001b[0m \u001b[1m1s\u001b[0m 2ms/step - loss: 6088.3550 - mae: 54.8900 - val_loss: 1744.8042 - val_mae: 13.0588\n",
      "Epoch 44/100\n",
      "\u001b[1m302/302\u001b[0m \u001b[32m━━━━━━━━━━━━━━━━━━━━\u001b[0m\u001b[37m\u001b[0m \u001b[1m1s\u001b[0m 2ms/step - loss: 5687.9512 - mae: 53.4909 - val_loss: 1702.2677 - val_mae: 10.9266\n",
      "Epoch 45/100\n",
      "\u001b[1m302/302\u001b[0m \u001b[32m━━━━━━━━━━━━━━━━━━━━\u001b[0m\u001b[37m\u001b[0m \u001b[1m1s\u001b[0m 2ms/step - loss: 6023.1782 - mae: 54.2554 - val_loss: 1622.9869 - val_mae: 9.3410\n",
      "Epoch 46/100\n",
      "\u001b[1m302/302\u001b[0m \u001b[32m━━━━━━━━━━━━━━━━━━━━\u001b[0m\u001b[37m\u001b[0m \u001b[1m1s\u001b[0m 3ms/step - loss: 5819.1748 - mae: 54.4387 - val_loss: 1630.4797 - val_mae: 15.5073\n",
      "Epoch 47/100\n",
      "\u001b[1m302/302\u001b[0m \u001b[32m━━━━━━━━━━━━━━━━━━━━\u001b[0m\u001b[37m\u001b[0m \u001b[1m1s\u001b[0m 3ms/step - loss: 5982.0640 - mae: 54.3831 - val_loss: 1475.8262 - val_mae: 11.1108\n",
      "Epoch 48/100\n",
      "\u001b[1m302/302\u001b[0m \u001b[32m━━━━━━━━━━━━━━━━━━━━\u001b[0m\u001b[37m\u001b[0m \u001b[1m1s\u001b[0m 3ms/step - loss: 5829.7871 - mae: 53.7498 - val_loss: 1443.3606 - val_mae: 9.7942\n",
      "Epoch 49/100\n",
      "\u001b[1m302/302\u001b[0m \u001b[32m━━━━━━━━━━━━━━━━━━━━\u001b[0m\u001b[37m\u001b[0m \u001b[1m1s\u001b[0m 3ms/step - loss: 5779.5405 - mae: 53.7300 - val_loss: 1379.4446 - val_mae: 11.1054\n",
      "Epoch 50/100\n",
      "\u001b[1m302/302\u001b[0m \u001b[32m━━━━━━━━━━━━━━━━━━━━\u001b[0m\u001b[37m\u001b[0m \u001b[1m1s\u001b[0m 3ms/step - loss: 5875.0210 - mae: 53.8236 - val_loss: 1377.5408 - val_mae: 11.4052\n",
      "Epoch 51/100\n"
     ]
    },
    {
     "name": "stdout",
     "output_type": "stream",
     "text": [
      "\u001b[1m302/302\u001b[0m \u001b[32m━━━━━━━━━━━━━━━━━━━━\u001b[0m\u001b[37m\u001b[0m \u001b[1m1s\u001b[0m 3ms/step - loss: 5678.4170 - mae: 53.4201 - val_loss: 1316.0940 - val_mae: 7.5345\n",
      "Epoch 52/100\n",
      "\u001b[1m302/302\u001b[0m \u001b[32m━━━━━━━━━━━━━━━━━━━━\u001b[0m\u001b[37m\u001b[0m \u001b[1m1s\u001b[0m 2ms/step - loss: 5678.3472 - mae: 53.7164 - val_loss: 1233.3899 - val_mae: 8.4916\n",
      "Epoch 53/100\n",
      "\u001b[1m302/302\u001b[0m \u001b[32m━━━━━━━━━━━━━━━━━━━━\u001b[0m\u001b[37m\u001b[0m \u001b[1m1s\u001b[0m 2ms/step - loss: 5432.0908 - mae: 52.3597 - val_loss: 1188.6722 - val_mae: 9.2005\n",
      "Epoch 54/100\n",
      "\u001b[1m302/302\u001b[0m \u001b[32m━━━━━━━━━━━━━━━━━━━━\u001b[0m\u001b[37m\u001b[0m \u001b[1m1s\u001b[0m 2ms/step - loss: 5602.5762 - mae: 52.9704 - val_loss: 1185.7783 - val_mae: 8.9498\n",
      "Epoch 55/100\n",
      "\u001b[1m302/302\u001b[0m \u001b[32m━━━━━━━━━━━━━━━━━━━━\u001b[0m\u001b[37m\u001b[0m \u001b[1m1s\u001b[0m 2ms/step - loss: 5684.4595 - mae: 53.3586 - val_loss: 1185.5090 - val_mae: 9.0374\n",
      "Epoch 56/100\n",
      "\u001b[1m302/302\u001b[0m \u001b[32m━━━━━━━━━━━━━━━━━━━━\u001b[0m\u001b[37m\u001b[0m \u001b[1m1s\u001b[0m 2ms/step - loss: 5416.1514 - mae: 52.8620 - val_loss: 1149.6246 - val_mae: 7.2890\n",
      "Epoch 57/100\n",
      "\u001b[1m302/302\u001b[0m \u001b[32m━━━━━━━━━━━━━━━━━━━━\u001b[0m\u001b[37m\u001b[0m \u001b[1m1s\u001b[0m 2ms/step - loss: 5508.2251 - mae: 52.8690 - val_loss: 1179.2928 - val_mae: 11.4297\n",
      "Epoch 58/100\n",
      "\u001b[1m302/302\u001b[0m \u001b[32m━━━━━━━━━━━━━━━━━━━━\u001b[0m\u001b[37m\u001b[0m \u001b[1m1s\u001b[0m 2ms/step - loss: 5336.8745 - mae: 52.0776 - val_loss: 1199.8942 - val_mae: 11.9472\n",
      "Epoch 59/100\n",
      "\u001b[1m302/302\u001b[0m \u001b[32m━━━━━━━━━━━━━━━━━━━━\u001b[0m\u001b[37m\u001b[0m \u001b[1m1s\u001b[0m 2ms/step - loss: 5572.0317 - mae: 53.1901 - val_loss: 1169.8289 - val_mae: 12.3724\n",
      "Epoch 60/100\n",
      "\u001b[1m302/302\u001b[0m \u001b[32m━━━━━━━━━━━━━━━━━━━━\u001b[0m\u001b[37m\u001b[0m \u001b[1m1s\u001b[0m 2ms/step - loss: 5450.2222 - mae: 52.8083 - val_loss: 1074.3470 - val_mae: 7.4434\n",
      "Epoch 61/100\n",
      "\u001b[1m302/302\u001b[0m \u001b[32m━━━━━━━━━━━━━━━━━━━━\u001b[0m\u001b[37m\u001b[0m \u001b[1m1s\u001b[0m 2ms/step - loss: 5788.2876 - mae: 53.5156 - val_loss: 1214.2128 - val_mae: 15.1081\n",
      "Epoch 62/100\n",
      "\u001b[1m302/302\u001b[0m \u001b[32m━━━━━━━━━━━━━━━━━━━━\u001b[0m\u001b[37m\u001b[0m \u001b[1m1s\u001b[0m 2ms/step - loss: 5744.1489 - mae: 53.7778 - val_loss: 1007.0411 - val_mae: 10.9012\n",
      "Epoch 63/100\n",
      "\u001b[1m302/302\u001b[0m \u001b[32m━━━━━━━━━━━━━━━━━━━━\u001b[0m\u001b[37m\u001b[0m \u001b[1m1s\u001b[0m 2ms/step - loss: 5405.0898 - mae: 52.5338 - val_loss: 1119.7928 - val_mae: 7.7206\n",
      "Epoch 64/100\n",
      "\u001b[1m302/302\u001b[0m \u001b[32m━━━━━━━━━━━━━━━━━━━━\u001b[0m\u001b[37m\u001b[0m \u001b[1m1s\u001b[0m 2ms/step - loss: 5590.1455 - mae: 53.2428 - val_loss: 1082.1924 - val_mae: 9.1465\n",
      "Epoch 65/100\n",
      "\u001b[1m302/302\u001b[0m \u001b[32m━━━━━━━━━━━━━━━━━━━━\u001b[0m\u001b[37m\u001b[0m \u001b[1m1s\u001b[0m 2ms/step - loss: 5569.2529 - mae: 52.8407 - val_loss: 982.5244 - val_mae: 7.1099\n",
      "Epoch 66/100\n",
      "\u001b[1m302/302\u001b[0m \u001b[32m━━━━━━━━━━━━━━━━━━━━\u001b[0m\u001b[37m\u001b[0m \u001b[1m1s\u001b[0m 2ms/step - loss: 5639.5190 - mae: 53.1531 - val_loss: 1085.6306 - val_mae: 12.7426\n",
      "Epoch 67/100\n",
      "\u001b[1m302/302\u001b[0m \u001b[32m━━━━━━━━━━━━━━━━━━━━\u001b[0m\u001b[37m\u001b[0m \u001b[1m1s\u001b[0m 2ms/step - loss: 5490.7310 - mae: 52.9471 - val_loss: 1008.9329 - val_mae: 7.0435\n",
      "Epoch 68/100\n",
      "\u001b[1m302/302\u001b[0m \u001b[32m━━━━━━━━━━━━━━━━━━━━\u001b[0m\u001b[37m\u001b[0m \u001b[1m1s\u001b[0m 3ms/step - loss: 5690.5952 - mae: 52.9812 - val_loss: 1018.8970 - val_mae: 12.1503\n",
      "Epoch 69/100\n",
      "\u001b[1m302/302\u001b[0m \u001b[32m━━━━━━━━━━━━━━━━━━━━\u001b[0m\u001b[37m\u001b[0m \u001b[1m1s\u001b[0m 3ms/step - loss: 5286.9473 - mae: 51.9184 - val_loss: 1019.0764 - val_mae: 10.9942\n",
      "Epoch 70/100\n",
      "\u001b[1m302/302\u001b[0m \u001b[32m━━━━━━━━━━━━━━━━━━━━\u001b[0m\u001b[37m\u001b[0m \u001b[1m1s\u001b[0m 3ms/step - loss: 5648.9116 - mae: 53.5413 - val_loss: 1175.1136 - val_mae: 16.2819\n",
      "Epoch 71/100\n",
      "\u001b[1m302/302\u001b[0m \u001b[32m━━━━━━━━━━━━━━━━━━━━\u001b[0m\u001b[37m\u001b[0m \u001b[1m1s\u001b[0m 3ms/step - loss: 5349.0688 - mae: 51.4831 - val_loss: 996.5208 - val_mae: 7.5314\n",
      "Epoch 72/100\n",
      "\u001b[1m302/302\u001b[0m \u001b[32m━━━━━━━━━━━━━━━━━━━━\u001b[0m\u001b[37m\u001b[0m \u001b[1m1s\u001b[0m 3ms/step - loss: 5200.8770 - mae: 51.1832 - val_loss: 973.0515 - val_mae: 8.2305\n",
      "Epoch 73/100\n",
      "\u001b[1m302/302\u001b[0m \u001b[32m━━━━━━━━━━━━━━━━━━━━\u001b[0m\u001b[37m\u001b[0m \u001b[1m1s\u001b[0m 2ms/step - loss: 5344.5200 - mae: 52.3269 - val_loss: 955.1276 - val_mae: 7.2736\n",
      "Epoch 74/100\n",
      "\u001b[1m302/302\u001b[0m \u001b[32m━━━━━━━━━━━━━━━━━━━━\u001b[0m\u001b[37m\u001b[0m \u001b[1m1s\u001b[0m 2ms/step - loss: 5391.3594 - mae: 51.7867 - val_loss: 1066.0488 - val_mae: 13.4572\n",
      "Epoch 75/100\n",
      "\u001b[1m302/302\u001b[0m \u001b[32m━━━━━━━━━━━━━━━━━━━━\u001b[0m\u001b[37m\u001b[0m \u001b[1m1s\u001b[0m 2ms/step - loss: 5430.2930 - mae: 52.4839 - val_loss: 1225.6118 - val_mae: 16.5603\n",
      "Epoch 76/100\n",
      "\u001b[1m302/302\u001b[0m \u001b[32m━━━━━━━━━━━━━━━━━━━━\u001b[0m\u001b[37m\u001b[0m \u001b[1m1s\u001b[0m 2ms/step - loss: 5544.1343 - mae: 53.0474 - val_loss: 1147.8779 - val_mae: 11.8417\n",
      "Epoch 77/100\n",
      "\u001b[1m302/302\u001b[0m \u001b[32m━━━━━━━━━━━━━━━━━━━━\u001b[0m\u001b[37m\u001b[0m \u001b[1m1s\u001b[0m 2ms/step - loss: 5158.1616 - mae: 51.2249 - val_loss: 1049.0791 - val_mae: 10.3499\n",
      "Epoch 78/100\n",
      "\u001b[1m302/302\u001b[0m \u001b[32m━━━━━━━━━━━━━━━━━━━━\u001b[0m\u001b[37m\u001b[0m \u001b[1m1s\u001b[0m 2ms/step - loss: 5187.8184 - mae: 51.8833 - val_loss: 970.2319 - val_mae: 11.0182\n",
      "Epoch 79/100\n",
      "\u001b[1m302/302\u001b[0m \u001b[32m━━━━━━━━━━━━━━━━━━━━\u001b[0m\u001b[37m\u001b[0m \u001b[1m1s\u001b[0m 2ms/step - loss: 5079.2559 - mae: 50.9763 - val_loss: 1033.7373 - val_mae: 9.9337\n",
      "Epoch 80/100\n",
      "\u001b[1m302/302\u001b[0m \u001b[32m━━━━━━━━━━━━━━━━━━━━\u001b[0m\u001b[37m\u001b[0m \u001b[1m1s\u001b[0m 2ms/step - loss: 5275.6729 - mae: 51.7656 - val_loss: 966.1500 - val_mae: 11.1894\n",
      "Epoch 81/100\n",
      "\u001b[1m302/302\u001b[0m \u001b[32m━━━━━━━━━━━━━━━━━━━━\u001b[0m\u001b[37m\u001b[0m \u001b[1m1s\u001b[0m 2ms/step - loss: 5229.3169 - mae: 51.8672 - val_loss: 895.5227 - val_mae: 7.4833\n",
      "Epoch 82/100\n",
      "\u001b[1m302/302\u001b[0m \u001b[32m━━━━━━━━━━━━━━━━━━━━\u001b[0m\u001b[37m\u001b[0m \u001b[1m1s\u001b[0m 2ms/step - loss: 5385.4097 - mae: 52.2285 - val_loss: 1061.0264 - val_mae: 14.7205\n",
      "Epoch 83/100\n",
      "\u001b[1m302/302\u001b[0m \u001b[32m━━━━━━━━━━━━━━━━━━━━\u001b[0m\u001b[37m\u001b[0m \u001b[1m1s\u001b[0m 2ms/step - loss: 5344.3682 - mae: 52.3231 - val_loss: 1086.2041 - val_mae: 16.9375\n",
      "Epoch 84/100\n",
      "\u001b[1m302/302\u001b[0m \u001b[32m━━━━━━━━━━━━━━━━━━━━\u001b[0m\u001b[37m\u001b[0m \u001b[1m1s\u001b[0m 2ms/step - loss: 5233.9829 - mae: 51.9101 - val_loss: 1086.3046 - val_mae: 13.6228\n",
      "Epoch 85/100\n",
      "\u001b[1m302/302\u001b[0m \u001b[32m━━━━━━━━━━━━━━━━━━━━\u001b[0m\u001b[37m\u001b[0m \u001b[1m1s\u001b[0m 2ms/step - loss: 5315.2793 - mae: 52.2238 - val_loss: 910.3402 - val_mae: 8.6374\n",
      "Epoch 86/100\n",
      "\u001b[1m302/302\u001b[0m \u001b[32m━━━━━━━━━━━━━━━━━━━━\u001b[0m\u001b[37m\u001b[0m \u001b[1m1s\u001b[0m 2ms/step - loss: 5040.8623 - mae: 50.8089 - val_loss: 864.9086 - val_mae: 7.3921\n",
      "Epoch 87/100\n",
      "\u001b[1m302/302\u001b[0m \u001b[32m━━━━━━━━━━━━━━━━━━━━\u001b[0m\u001b[37m\u001b[0m \u001b[1m1s\u001b[0m 2ms/step - loss: 5114.9312 - mae: 50.7801 - val_loss: 1012.7377 - val_mae: 12.2645\n",
      "Epoch 88/100\n",
      "\u001b[1m302/302\u001b[0m \u001b[32m━━━━━━━━━━━━━━━━━━━━\u001b[0m\u001b[37m\u001b[0m \u001b[1m1s\u001b[0m 2ms/step - loss: 5331.4966 - mae: 52.0428 - val_loss: 926.9884 - val_mae: 9.2785\n",
      "Epoch 89/100\n",
      "\u001b[1m302/302\u001b[0m \u001b[32m━━━━━━━━━━━━━━━━━━━━\u001b[0m\u001b[37m\u001b[0m \u001b[1m1s\u001b[0m 2ms/step - loss: 5045.1675 - mae: 51.0787 - val_loss: 859.6365 - val_mae: 7.6382\n",
      "Epoch 90/100\n",
      "\u001b[1m302/302\u001b[0m \u001b[32m━━━━━━━━━━━━━━━━━━━━\u001b[0m\u001b[37m\u001b[0m \u001b[1m1s\u001b[0m 3ms/step - loss: 5202.4570 - mae: 51.7989 - val_loss: 902.7215 - val_mae: 10.0227\n",
      "Epoch 91/100\n",
      "\u001b[1m302/302\u001b[0m \u001b[32m━━━━━━━━━━━━━━━━━━━━\u001b[0m\u001b[37m\u001b[0m \u001b[1m1s\u001b[0m 3ms/step - loss: 5289.7676 - mae: 51.9488 - val_loss: 977.4884 - val_mae: 14.1544\n",
      "Epoch 92/100\n",
      "\u001b[1m302/302\u001b[0m \u001b[32m━━━━━━━━━━━━━━━━━━━━\u001b[0m\u001b[37m\u001b[0m \u001b[1m1s\u001b[0m 3ms/step - loss: 5277.1416 - mae: 51.6314 - val_loss: 890.8509 - val_mae: 11.0851\n",
      "Epoch 93/100\n",
      "\u001b[1m302/302\u001b[0m \u001b[32m━━━━━━━━━━━━━━━━━━━━\u001b[0m\u001b[37m\u001b[0m \u001b[1m1s\u001b[0m 3ms/step - loss: 5068.5190 - mae: 51.3129 - val_loss: 886.5556 - val_mae: 10.5979\n",
      "Epoch 94/100\n",
      "\u001b[1m302/302\u001b[0m \u001b[32m━━━━━━━━━━━━━━━━━━━━\u001b[0m\u001b[37m\u001b[0m \u001b[1m1s\u001b[0m 3ms/step - loss: 5150.8325 - mae: 51.6302 - val_loss: 857.5350 - val_mae: 12.1946\n",
      "Epoch 95/100\n",
      "\u001b[1m302/302\u001b[0m \u001b[32m━━━━━━━━━━━━━━━━━━━━\u001b[0m\u001b[37m\u001b[0m \u001b[1m1s\u001b[0m 2ms/step - loss: 5031.2295 - mae: 51.2378 - val_loss: 849.3198 - val_mae: 9.2078\n",
      "Epoch 96/100\n",
      "\u001b[1m302/302\u001b[0m \u001b[32m━━━━━━━━━━━━━━━━━━━━\u001b[0m\u001b[37m\u001b[0m \u001b[1m1s\u001b[0m 2ms/step - loss: 5023.8174 - mae: 50.7054 - val_loss: 928.4086 - val_mae: 11.3814\n",
      "Epoch 97/100\n",
      "\u001b[1m302/302\u001b[0m \u001b[32m━━━━━━━━━━━━━━━━━━━━\u001b[0m\u001b[37m\u001b[0m \u001b[1m1s\u001b[0m 2ms/step - loss: 5480.8594 - mae: 52.4780 - val_loss: 806.0215 - val_mae: 8.0197\n",
      "Epoch 98/100\n",
      "\u001b[1m302/302\u001b[0m \u001b[32m━━━━━━━━━━━━━━━━━━━━\u001b[0m\u001b[37m\u001b[0m \u001b[1m1s\u001b[0m 2ms/step - loss: 5333.6128 - mae: 52.5867 - val_loss: 787.9453 - val_mae: 6.8813\n",
      "Epoch 99/100\n",
      "\u001b[1m302/302\u001b[0m \u001b[32m━━━━━━━━━━━━━━━━━━━━\u001b[0m\u001b[37m\u001b[0m \u001b[1m1s\u001b[0m 2ms/step - loss: 5227.9312 - mae: 51.9197 - val_loss: 829.3724 - val_mae: 11.6323\n",
      "Epoch 100/100\n",
      "\u001b[1m302/302\u001b[0m \u001b[32m━━━━━━━━━━━━━━━━━━━━\u001b[0m\u001b[37m\u001b[0m \u001b[1m1s\u001b[0m 2ms/step - loss: 5040.1055 - mae: 50.7770 - val_loss: 920.2717 - val_mae: 12.4797\n"
     ]
    }
   ],
   "source": [
    "history = model.fit(X_train, y_train, validation_split=0.2, epochs=100, batch_size=32, verbose=1)"
   ]
  },
  {
   "cell_type": "code",
   "execution_count": 66,
   "id": "ccf3567b",
   "metadata": {},
   "outputs": [
    {
     "name": "stdout",
     "output_type": "stream",
     "text": [
      "\u001b[1m95/95\u001b[0m \u001b[32m━━━━━━━━━━━━━━━━━━━━\u001b[0m\u001b[37m\u001b[0m \u001b[1m0s\u001b[0m 1ms/step - loss: 234.7446 - mae: 11.5798\n",
      "Test Mean Absolute Error: 11.91\n"
     ]
    }
   ],
   "source": [
    "# Evaluate the model on the test data\n",
    "test_loss, test_mae = model.evaluate(X_test, y_test, verbose=1)\n",
    "print(f'Test Mean Absolute Error: {test_mae:.2f}')"
   ]
  },
  {
   "cell_type": "code",
   "execution_count": 67,
   "id": "7f969157",
   "metadata": {},
   "outputs": [
    {
     "name": "stdout",
     "output_type": "stream",
     "text": [
      "\u001b[1m95/95\u001b[0m \u001b[32m━━━━━━━━━━━━━━━━━━━━\u001b[0m\u001b[37m\u001b[0m \u001b[1m0s\u001b[0m 2ms/step\n"
     ]
    }
   ],
   "source": [
    "# Make predictions on the test data\n",
    "y_pred = model.predict(X_test)"
   ]
  },
  {
   "cell_type": "code",
   "execution_count": 68,
   "id": "9e3c3214",
   "metadata": {},
   "outputs": [
    {
     "name": "stdout",
     "output_type": "stream",
     "text": [
      "Predicted RUL: 1025.02, Actual RUL: 1043.00\n",
      "Predicted RUL: 915.06, Actual RUL: 956.00\n",
      "Predicted RUL: 469.43, Actual RUL: 469.00\n",
      "Predicted RUL: 168.52, Actual RUL: 176.00\n",
      "Predicted RUL: 930.88, Actual RUL: 943.00\n",
      "Predicted RUL: 613.72, Actual RUL: 617.00\n",
      "Predicted RUL: 210.28, Actual RUL: 207.00\n",
      "Predicted RUL: 33.52, Actual RUL: 32.00\n",
      "Predicted RUL: 39.30, Actual RUL: 23.00\n",
      "Predicted RUL: 47.34, Actual RUL: 22.00\n"
     ]
    }
   ],
   "source": [
    "# Output first few predictions and actual RUL values for comparison\n",
    "for i in range(10):\n",
    "    print(f'Predicted RUL: {y_pred[i][0]:.2f}, Actual RUL: {y_test[i]:.2f}')"
   ]
  },
  {
   "cell_type": "code",
   "execution_count": 69,
   "id": "1a073925",
   "metadata": {},
   "outputs": [
    {
     "name": "stdout",
     "output_type": "stream",
     "text": [
      "Mean Squared Error (MSE): 281.3909819505183\n"
     ]
    }
   ],
   "source": [
    "# Calculate Mean Squared Error (MSE)\n",
    "mse = mean_squared_error(y_test, y_pred)\n",
    "print(f'Mean Squared Error (MSE): {mse}')"
   ]
  },
  {
   "cell_type": "code",
   "execution_count": 70,
   "id": "e42ba47c",
   "metadata": {},
   "outputs": [
    {
     "name": "stdout",
     "output_type": "stream",
     "text": [
      "Root Mean Squared Error (RMSE): 16.774712574304168\n"
     ]
    }
   ],
   "source": [
    "# Calculate Root Mean Squared Error (RMSE)\n",
    "rmse = np.sqrt(mse)\n",
    "print(f'Root Mean Squared Error (RMSE): {rmse}')"
   ]
  },
  {
   "cell_type": "code",
   "execution_count": 71,
   "id": "0191474f",
   "metadata": {},
   "outputs": [
    {
     "name": "stdout",
     "output_type": "stream",
     "text": [
      "Mean Absolute Error (MAE): 11.911318570563376\n"
     ]
    }
   ],
   "source": [
    "# Calculate Mean Absolute Error (MAE)\n",
    "mae = mean_absolute_error(y_test, y_pred)\n",
    "print(f'Mean Absolute Error (MAE): {mae}')"
   ]
  },
  {
   "cell_type": "code",
   "execution_count": 72,
   "id": "9eade7af",
   "metadata": {},
   "outputs": [
    {
     "name": "stdout",
     "output_type": "stream",
     "text": [
      "R-squared: 0.9972834935402451\n"
     ]
    }
   ],
   "source": [
    "# Calculate R-squared (Coefficient of Determination)\n",
    "r2 = r2_score(y_test, y_pred)\n",
    "print(f'R-squared: {r2}')"
   ]
  },
  {
   "cell_type": "code",
   "execution_count": 73,
   "id": "f54a0a56",
   "metadata": {},
   "outputs": [
    {
     "data": {
      "image/png": "[encoded data removed]",
      "text/plain": [
       "<Figure size 640x480 with 1 Axes>"
      ]
     },
     "metadata": {},
     "output_type": "display_data"
    }
   ],
   "source": [
    "# Plot training & validation loss values\n",
    "plt.plot(history.history['loss'])\n",
    "plt.plot(history.history['val_loss'])\n",
    "plt.title('Model Loss')\n",
    "plt.xlabel('Epoch')\n",
    "plt.ylabel('Loss')\n",
    "plt.legend(['Train', 'Validation'], loc='upper right')\n",
    "plt.show()"
   ]
  },
  {
   "cell_type": "code",
   "execution_count": 74,
   "id": "dbdcf48b",
   "metadata": {},
   "outputs": [],
   "source": [
    "performance_results = {\n",
    "    'Optimizer': ['Adam', 'SGD', 'RMSprop', 'Adamax'],\n",
    "    'MSE': [761.7741715211274, 8629.162704869706, 1009.8482849097389, 281.3909819505183],  \n",
    "    'RMSE': [27.600256729261186, 92.89328665124141, 31.778110153212996, 16.774712574304168],  \n",
    "    'MAE': [21.07428883825708, 16.487200215058273, 31.778110153212996, 24.579839160424154],  \n",
    "    'R-squared': [0.9926459460659779, 0.9166953536763436, 0.9902510756730218, 0.9972834935402451]  \n",
    "}"
   ]
  },
  {
   "cell_type": "code",
   "execution_count": 75,
   "id": "ab6a79cc",
   "metadata": {},
   "outputs": [],
   "source": [
    "df_performance = pd.DataFrame(performance_results)"
   ]
  },
  {
   "cell_type": "code",
   "execution_count": 76,
   "id": "449ebf31",
   "metadata": {},
   "outputs": [],
   "source": [
    "df_performance_styled = df_performance.style.background_gradient(cmap='RdYlBu_r').format({\n",
    "    'MSE': '{:.4f}',\n",
    "    'RMSE': '{:.4f}',\n",
    "    'MAE': '{:.4f}',\n",
    "    'R-squared': '{:.4f}'\n",
    "})"
   ]
  },
  {
   "cell_type": "code",
   "execution_count": 77,
   "id": "7a916a92",
   "metadata": {},
   "outputs": [
    {
     "data": {
      "text/html": [
       "<style type=\"text/css\">\n",
       "#T_e3161_row0_col1 {\n",
       "  background-color: #3c59a6;\n",
       "  color: #f1f1f1;\n",
       "}\n",
       "#T_e3161_row0_col2 {\n",
       "  background-color: #588cc0;\n",
       "  color: #f1f1f1;\n",
       "}\n",
       "#T_e3161_row0_col3 {\n",
       "  background-color: #aad8e9;\n",
       "  color: #000000;\n",
       "}\n",
       "#T_e3161_row0_col4 {\n",
       "  background-color: #c01a27;\n",
       "  color: #f1f1f1;\n",
       "}\n",
       "#T_e3161_row1_col1, #T_e3161_row1_col2, #T_e3161_row2_col3, #T_e3161_row3_col4 {\n",
       "  background-color: #a50026;\n",
       "  color: #f1f1f1;\n",
       "}\n",
       "#T_e3161_row1_col3, #T_e3161_row1_col4, #T_e3161_row3_col1, #T_e3161_row3_col2 {\n",
       "  background-color: #313695;\n",
       "  color: #f1f1f1;\n",
       "}\n",
       "#T_e3161_row2_col1 {\n",
       "  background-color: #426cb0;\n",
       "  color: #f1f1f1;\n",
       "}\n",
       "#T_e3161_row2_col2 {\n",
       "  background-color: #72abd0;\n",
       "  color: #f1f1f1;\n",
       "}\n",
       "#T_e3161_row2_col4 {\n",
       "  background-color: #d02927;\n",
       "  color: #f1f1f1;\n",
       "}\n",
       "#T_e3161_row3_col3 {\n",
       "  background-color: #fff6b1;\n",
       "  color: #000000;\n",
       "}\n",
       "</style>\n",
       "<table id=\"T_e3161\">\n",
       "  <thead>\n",
       "    <tr>\n",
       "      <th class=\"blank level0\" >&nbsp;</th>\n",
       "      <th id=\"T_e3161_level0_col0\" class=\"col_heading level0 col0\" >Optimizer</th>\n",
       "      <th id=\"T_e3161_level0_col1\" class=\"col_heading level0 col1\" >MSE</th>\n",
       "      <th id=\"T_e3161_level0_col2\" class=\"col_heading level0 col2\" >RMSE</th>\n",
       "      <th id=\"T_e3161_level0_col3\" class=\"col_heading level0 col3\" >MAE</th>\n",
       "      <th id=\"T_e3161_level0_col4\" class=\"col_heading level0 col4\" >R-squared</th>\n",
       "    </tr>\n",
       "  </thead>\n",
       "  <tbody>\n",
       "    <tr>\n",
       "      <th id=\"T_e3161_level0_row0\" class=\"row_heading level0 row0\" >0</th>\n",
       "      <td id=\"T_e3161_row0_col0\" class=\"data row0 col0\" >Adam</td>\n",
       "      <td id=\"T_e3161_row0_col1\" class=\"data row0 col1\" >761.7742</td>\n",
       "      <td id=\"T_e3161_row0_col2\" class=\"data row0 col2\" >27.6003</td>\n",
       "      <td id=\"T_e3161_row0_col3\" class=\"data row0 col3\" >21.0743</td>\n",
       "      <td id=\"T_e3161_row0_col4\" class=\"data row0 col4\" >0.9926</td>\n",
       "    </tr>\n",
       "    <tr>\n",
       "      <th id=\"T_e3161_level0_row1\" class=\"row_heading level0 row1\" >1</th>\n",
       "      <td id=\"T_e3161_row1_col0\" class=\"data row1 col0\" >SGD</td>\n",
       "      <td id=\"T_e3161_row1_col1\" class=\"data row1 col1\" >8629.1627</td>\n",
       "      <td id=\"T_e3161_row1_col2\" class=\"data row1 col2\" >92.8933</td>\n",
       "      <td id=\"T_e3161_row1_col3\" class=\"data row1 col3\" >16.4872</td>\n",
       "      <td id=\"T_e3161_row1_col4\" class=\"data row1 col4\" >0.9167</td>\n",
       "    </tr>\n",
       "    <tr>\n",
       "      <th id=\"T_e3161_level0_row2\" class=\"row_heading level0 row2\" >2</th>\n",
       "      <td id=\"T_e3161_row2_col0\" class=\"data row2 col0\" >RMSprop</td>\n",
       "      <td id=\"T_e3161_row2_col1\" class=\"data row2 col1\" >1009.8483</td>\n",
       "      <td id=\"T_e3161_row2_col2\" class=\"data row2 col2\" >31.7781</td>\n",
       "      <td id=\"T_e3161_row2_col3\" class=\"data row2 col3\" >31.7781</td>\n",
       "      <td id=\"T_e3161_row2_col4\" class=\"data row2 col4\" >0.9903</td>\n",
       "    </tr>\n",
       "    <tr>\n",
       "      <th id=\"T_e3161_level0_row3\" class=\"row_heading level0 row3\" >3</th>\n",
       "      <td id=\"T_e3161_row3_col0\" class=\"data row3 col0\" >Adamax</td>\n",
       "      <td id=\"T_e3161_row3_col1\" class=\"data row3 col1\" >281.3910</td>\n",
       "      <td id=\"T_e3161_row3_col2\" class=\"data row3 col2\" >16.7747</td>\n",
       "      <td id=\"T_e3161_row3_col3\" class=\"data row3 col3\" >24.5798</td>\n",
       "      <td id=\"T_e3161_row3_col4\" class=\"data row3 col4\" >0.9973</td>\n",
       "    </tr>\n",
       "  </tbody>\n",
       "</table>\n"
      ],
      "text/plain": [
       "<pandas.io.formats.style.Styler at 0x19adf584050>"
      ]
     },
     "execution_count": 77,
     "metadata": {},
     "output_type": "execute_result"
    }
   ],
   "source": [
    "df_performance_styled"
   ]
  },
  {
   "cell_type": "code",
   "execution_count": 78,
   "id": "e39a224d",
   "metadata": {},
   "outputs": [],
   "source": [
    "#Overall 'Adamax' is the best performer while 'SGD' is the worst performer"
   ]
  },
  {
   "cell_type": "code",
   "execution_count": null,
   "id": "20444514",
   "metadata": {},
   "outputs": [],
   "source": []
  }
 ],
 "metadata": {
  "kernelspec": {
   "display_name": "Python 3 (ipykernel)",
   "language": "python",
   "name": "python3"
  },
  "language_info": {
   "codemirror_mode": {
    "name": "ipython",
    "version": 3
   },
   "file_extension": ".py",
   "mimetype": "text/x-python",
   "name": "python",
   "nbconvert_exporter": "python",
   "pygments_lexer": "ipython3",
   "version": "3.11.4"
  }
 },
 "nbformat": 4,
 "nbformat_minor": 5
}
